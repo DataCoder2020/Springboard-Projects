{
 "cells": [
  {
   "cell_type": "markdown",
   "metadata": {},
   "source": [
    "# 03_Exploratory Data Analysis_Hospital Length Of Stay"
   ]
  },
  {
   "cell_type": "code",
   "execution_count": null,
   "metadata": {},
   "outputs": [],
   "source": []
  },
  {
   "cell_type": "markdown",
   "metadata": {},
   "source": [
    "## Imports"
   ]
  },
  {
   "cell_type": "code",
   "execution_count": 1,
   "metadata": {},
   "outputs": [],
   "source": [
    "import pandas as pd\n",
    "import numpy as np\n",
    "import os\n",
    "import matplotlib.pyplot as plt\n",
    "import seaborn as sns\n",
    "from sklearn.decomposition import PCA\n",
    "from sklearn.preprocessing import scale"
   ]
  },
  {
   "cell_type": "code",
   "execution_count": 2,
   "metadata": {},
   "outputs": [],
   "source": [
    "%matplotlib inline\n",
    "#rcParams['figure.figsize']=10,8\n",
    "sns.set()\n",
    "import warnings\n",
    "warnings.filterwarnings('ignore')\n",
    "sns.set_theme(style=\"whitegrid\")"
   ]
  },
  {
   "cell_type": "code",
   "execution_count": 3,
   "metadata": {},
   "outputs": [],
   "source": [
    "#df=pd.read_csv('LengthOfStay.csv')\n",
    "df=pd.read_csv('LengthOfStay_new.csv') # it contains LOS"
   ]
  },
  {
   "cell_type": "code",
   "execution_count": 4,
   "metadata": {},
   "outputs": [
    {
     "name": "stdout",
     "output_type": "stream",
     "text": [
      "<class 'pandas.core.frame.DataFrame'>\n",
      "RangeIndex: 100000 entries, 0 to 99999\n",
      "Data columns (total 29 columns):\n",
      " #   Column                      Non-Null Count   Dtype  \n",
      "---  ------                      --------------   -----  \n",
      " 0   eid                         100000 non-null  int64  \n",
      " 1   vdate                       100000 non-null  object \n",
      " 2   rcount                      100000 non-null  object \n",
      " 3   gender                      100000 non-null  object \n",
      " 4   dialysisrenalendstage       100000 non-null  int64  \n",
      " 5   asthma                      100000 non-null  int64  \n",
      " 6   irondef                     100000 non-null  int64  \n",
      " 7   pneum                       100000 non-null  int64  \n",
      " 8   substancedependence         100000 non-null  int64  \n",
      " 9   psychologicaldisordermajor  100000 non-null  int64  \n",
      " 10  depress                     100000 non-null  int64  \n",
      " 11  psychother                  100000 non-null  int64  \n",
      " 12  fibrosisandother            100000 non-null  int64  \n",
      " 13  malnutrition                100000 non-null  int64  \n",
      " 14  hemo                        100000 non-null  int64  \n",
      " 15  hematocrit                  100000 non-null  float64\n",
      " 16  neutrophils                 100000 non-null  float64\n",
      " 17  sodium                      100000 non-null  float64\n",
      " 18  glucose                     100000 non-null  float64\n",
      " 19  bloodureanitro              100000 non-null  float64\n",
      " 20  creatinine                  100000 non-null  float64\n",
      " 21  bmi                         100000 non-null  float64\n",
      " 22  pulse                       100000 non-null  int64  \n",
      " 23  respiration                 100000 non-null  float64\n",
      " 24  secondarydiagnosisnonicd9   100000 non-null  int64  \n",
      " 25  discharged                  100000 non-null  object \n",
      " 26  facid                       100000 non-null  object \n",
      " 27  lengthofstay                100000 non-null  int64  \n",
      " 28  LOS                         100000 non-null  object \n",
      "dtypes: float64(8), int64(15), object(6)\n",
      "memory usage: 22.1+ MB\n"
     ]
    }
   ],
   "source": [
    "df.info()"
   ]
  },
  {
   "cell_type": "code",
   "execution_count": 5,
   "metadata": {},
   "outputs": [
    {
     "data": {
      "text/html": [
       "<div>\n",
       "<style scoped>\n",
       "    .dataframe tbody tr th:only-of-type {\n",
       "        vertical-align: middle;\n",
       "    }\n",
       "\n",
       "    .dataframe tbody tr th {\n",
       "        vertical-align: top;\n",
       "    }\n",
       "\n",
       "    .dataframe thead th {\n",
       "        text-align: right;\n",
       "    }\n",
       "</style>\n",
       "<table border=\"1\" class=\"dataframe\">\n",
       "  <thead>\n",
       "    <tr style=\"text-align: right;\">\n",
       "      <th></th>\n",
       "      <th>eid</th>\n",
       "      <th>vdate</th>\n",
       "      <th>rcount</th>\n",
       "      <th>gender</th>\n",
       "      <th>dialysisrenalendstage</th>\n",
       "      <th>asthma</th>\n",
       "      <th>irondef</th>\n",
       "      <th>pneum</th>\n",
       "      <th>substancedependence</th>\n",
       "      <th>psychologicaldisordermajor</th>\n",
       "      <th>...</th>\n",
       "      <th>bloodureanitro</th>\n",
       "      <th>creatinine</th>\n",
       "      <th>bmi</th>\n",
       "      <th>pulse</th>\n",
       "      <th>respiration</th>\n",
       "      <th>secondarydiagnosisnonicd9</th>\n",
       "      <th>discharged</th>\n",
       "      <th>facid</th>\n",
       "      <th>lengthofstay</th>\n",
       "      <th>LOS</th>\n",
       "    </tr>\n",
       "  </thead>\n",
       "  <tbody>\n",
       "    <tr>\n",
       "      <th>0</th>\n",
       "      <td>1</td>\n",
       "      <td>8/29/2012</td>\n",
       "      <td>0</td>\n",
       "      <td>F</td>\n",
       "      <td>0</td>\n",
       "      <td>0</td>\n",
       "      <td>0</td>\n",
       "      <td>0</td>\n",
       "      <td>0</td>\n",
       "      <td>0</td>\n",
       "      <td>...</td>\n",
       "      <td>12.0</td>\n",
       "      <td>1.390722</td>\n",
       "      <td>30.432418</td>\n",
       "      <td>96</td>\n",
       "      <td>6.5</td>\n",
       "      <td>4</td>\n",
       "      <td>9/1/2012</td>\n",
       "      <td>B</td>\n",
       "      <td>3</td>\n",
       "      <td>1-3</td>\n",
       "    </tr>\n",
       "    <tr>\n",
       "      <th>1</th>\n",
       "      <td>2</td>\n",
       "      <td>5/26/2012</td>\n",
       "      <td>5+</td>\n",
       "      <td>F</td>\n",
       "      <td>0</td>\n",
       "      <td>0</td>\n",
       "      <td>0</td>\n",
       "      <td>0</td>\n",
       "      <td>0</td>\n",
       "      <td>0</td>\n",
       "      <td>...</td>\n",
       "      <td>8.0</td>\n",
       "      <td>0.943164</td>\n",
       "      <td>28.460516</td>\n",
       "      <td>61</td>\n",
       "      <td>6.5</td>\n",
       "      <td>1</td>\n",
       "      <td>6/2/2012</td>\n",
       "      <td>A</td>\n",
       "      <td>7</td>\n",
       "      <td>4-7</td>\n",
       "    </tr>\n",
       "    <tr>\n",
       "      <th>2</th>\n",
       "      <td>3</td>\n",
       "      <td>9/22/2012</td>\n",
       "      <td>1</td>\n",
       "      <td>F</td>\n",
       "      <td>0</td>\n",
       "      <td>0</td>\n",
       "      <td>0</td>\n",
       "      <td>0</td>\n",
       "      <td>0</td>\n",
       "      <td>0</td>\n",
       "      <td>...</td>\n",
       "      <td>12.0</td>\n",
       "      <td>1.065750</td>\n",
       "      <td>28.843812</td>\n",
       "      <td>64</td>\n",
       "      <td>6.5</td>\n",
       "      <td>2</td>\n",
       "      <td>9/25/2012</td>\n",
       "      <td>B</td>\n",
       "      <td>3</td>\n",
       "      <td>1-3</td>\n",
       "    </tr>\n",
       "    <tr>\n",
       "      <th>3</th>\n",
       "      <td>4</td>\n",
       "      <td>8/9/2012</td>\n",
       "      <td>0</td>\n",
       "      <td>F</td>\n",
       "      <td>0</td>\n",
       "      <td>0</td>\n",
       "      <td>0</td>\n",
       "      <td>0</td>\n",
       "      <td>0</td>\n",
       "      <td>0</td>\n",
       "      <td>...</td>\n",
       "      <td>12.0</td>\n",
       "      <td>0.906862</td>\n",
       "      <td>27.959007</td>\n",
       "      <td>76</td>\n",
       "      <td>6.5</td>\n",
       "      <td>1</td>\n",
       "      <td>8/10/2012</td>\n",
       "      <td>A</td>\n",
       "      <td>1</td>\n",
       "      <td>1-3</td>\n",
       "    </tr>\n",
       "    <tr>\n",
       "      <th>4</th>\n",
       "      <td>5</td>\n",
       "      <td>12/20/2012</td>\n",
       "      <td>0</td>\n",
       "      <td>F</td>\n",
       "      <td>0</td>\n",
       "      <td>0</td>\n",
       "      <td>0</td>\n",
       "      <td>1</td>\n",
       "      <td>0</td>\n",
       "      <td>1</td>\n",
       "      <td>...</td>\n",
       "      <td>11.5</td>\n",
       "      <td>1.242854</td>\n",
       "      <td>30.258927</td>\n",
       "      <td>67</td>\n",
       "      <td>5.6</td>\n",
       "      <td>2</td>\n",
       "      <td>12/24/2012</td>\n",
       "      <td>E</td>\n",
       "      <td>4</td>\n",
       "      <td>4-7</td>\n",
       "    </tr>\n",
       "  </tbody>\n",
       "</table>\n",
       "<p>5 rows × 29 columns</p>\n",
       "</div>"
      ],
      "text/plain": [
       "   eid       vdate rcount gender  dialysisrenalendstage  asthma  irondef  \\\n",
       "0    1   8/29/2012      0      F                      0       0        0   \n",
       "1    2   5/26/2012     5+      F                      0       0        0   \n",
       "2    3   9/22/2012      1      F                      0       0        0   \n",
       "3    4    8/9/2012      0      F                      0       0        0   \n",
       "4    5  12/20/2012      0      F                      0       0        0   \n",
       "\n",
       "   pneum  substancedependence  psychologicaldisordermajor  ...  \\\n",
       "0      0                    0                           0  ...   \n",
       "1      0                    0                           0  ...   \n",
       "2      0                    0                           0  ...   \n",
       "3      0                    0                           0  ...   \n",
       "4      1                    0                           1  ...   \n",
       "\n",
       "   bloodureanitro  creatinine        bmi  pulse  respiration  \\\n",
       "0            12.0    1.390722  30.432418     96          6.5   \n",
       "1             8.0    0.943164  28.460516     61          6.5   \n",
       "2            12.0    1.065750  28.843812     64          6.5   \n",
       "3            12.0    0.906862  27.959007     76          6.5   \n",
       "4            11.5    1.242854  30.258927     67          5.6   \n",
       "\n",
       "   secondarydiagnosisnonicd9  discharged  facid  lengthofstay  LOS  \n",
       "0                          4    9/1/2012      B             3  1-3  \n",
       "1                          1    6/2/2012      A             7  4-7  \n",
       "2                          2   9/25/2012      B             3  1-3  \n",
       "3                          1   8/10/2012      A             1  1-3  \n",
       "4                          2  12/24/2012      E             4  4-7  \n",
       "\n",
       "[5 rows x 29 columns]"
      ]
     },
     "execution_count": 5,
     "metadata": {},
     "output_type": "execute_result"
    }
   ],
   "source": [
    "df.head()"
   ]
  },
  {
   "cell_type": "code",
   "execution_count": 6,
   "metadata": {},
   "outputs": [
    {
     "data": {
      "text/html": [
       "<div>\n",
       "<style scoped>\n",
       "    .dataframe tbody tr th:only-of-type {\n",
       "        vertical-align: middle;\n",
       "    }\n",
       "\n",
       "    .dataframe tbody tr th {\n",
       "        vertical-align: top;\n",
       "    }\n",
       "\n",
       "    .dataframe thead th {\n",
       "        text-align: right;\n",
       "    }\n",
       "</style>\n",
       "<table border=\"1\" class=\"dataframe\">\n",
       "  <thead>\n",
       "    <tr style=\"text-align: right;\">\n",
       "      <th></th>\n",
       "      <th>count</th>\n",
       "      <th>mean</th>\n",
       "      <th>std</th>\n",
       "      <th>min</th>\n",
       "      <th>25%</th>\n",
       "      <th>50%</th>\n",
       "      <th>75%</th>\n",
       "      <th>max</th>\n",
       "    </tr>\n",
       "  </thead>\n",
       "  <tbody>\n",
       "    <tr>\n",
       "      <th>eid</th>\n",
       "      <td>100000.0</td>\n",
       "      <td>50000.500000</td>\n",
       "      <td>28867.657797</td>\n",
       "      <td>1.000000</td>\n",
       "      <td>25000.750000</td>\n",
       "      <td>50000.500000</td>\n",
       "      <td>75000.250000</td>\n",
       "      <td>100000.000000</td>\n",
       "    </tr>\n",
       "    <tr>\n",
       "      <th>dialysisrenalendstage</th>\n",
       "      <td>100000.0</td>\n",
       "      <td>0.036420</td>\n",
       "      <td>0.187334</td>\n",
       "      <td>0.000000</td>\n",
       "      <td>0.000000</td>\n",
       "      <td>0.000000</td>\n",
       "      <td>0.000000</td>\n",
       "      <td>1.000000</td>\n",
       "    </tr>\n",
       "    <tr>\n",
       "      <th>asthma</th>\n",
       "      <td>100000.0</td>\n",
       "      <td>0.035270</td>\n",
       "      <td>0.184462</td>\n",
       "      <td>0.000000</td>\n",
       "      <td>0.000000</td>\n",
       "      <td>0.000000</td>\n",
       "      <td>0.000000</td>\n",
       "      <td>1.000000</td>\n",
       "    </tr>\n",
       "    <tr>\n",
       "      <th>irondef</th>\n",
       "      <td>100000.0</td>\n",
       "      <td>0.094940</td>\n",
       "      <td>0.293134</td>\n",
       "      <td>0.000000</td>\n",
       "      <td>0.000000</td>\n",
       "      <td>0.000000</td>\n",
       "      <td>0.000000</td>\n",
       "      <td>1.000000</td>\n",
       "    </tr>\n",
       "    <tr>\n",
       "      <th>pneum</th>\n",
       "      <td>100000.0</td>\n",
       "      <td>0.039450</td>\n",
       "      <td>0.194664</td>\n",
       "      <td>0.000000</td>\n",
       "      <td>0.000000</td>\n",
       "      <td>0.000000</td>\n",
       "      <td>0.000000</td>\n",
       "      <td>1.000000</td>\n",
       "    </tr>\n",
       "    <tr>\n",
       "      <th>substancedependence</th>\n",
       "      <td>100000.0</td>\n",
       "      <td>0.063060</td>\n",
       "      <td>0.243072</td>\n",
       "      <td>0.000000</td>\n",
       "      <td>0.000000</td>\n",
       "      <td>0.000000</td>\n",
       "      <td>0.000000</td>\n",
       "      <td>1.000000</td>\n",
       "    </tr>\n",
       "    <tr>\n",
       "      <th>psychologicaldisordermajor</th>\n",
       "      <td>100000.0</td>\n",
       "      <td>0.239040</td>\n",
       "      <td>0.426499</td>\n",
       "      <td>0.000000</td>\n",
       "      <td>0.000000</td>\n",
       "      <td>0.000000</td>\n",
       "      <td>0.000000</td>\n",
       "      <td>1.000000</td>\n",
       "    </tr>\n",
       "    <tr>\n",
       "      <th>depress</th>\n",
       "      <td>100000.0</td>\n",
       "      <td>0.051660</td>\n",
       "      <td>0.221341</td>\n",
       "      <td>0.000000</td>\n",
       "      <td>0.000000</td>\n",
       "      <td>0.000000</td>\n",
       "      <td>0.000000</td>\n",
       "      <td>1.000000</td>\n",
       "    </tr>\n",
       "    <tr>\n",
       "      <th>psychother</th>\n",
       "      <td>100000.0</td>\n",
       "      <td>0.049390</td>\n",
       "      <td>0.216682</td>\n",
       "      <td>0.000000</td>\n",
       "      <td>0.000000</td>\n",
       "      <td>0.000000</td>\n",
       "      <td>0.000000</td>\n",
       "      <td>1.000000</td>\n",
       "    </tr>\n",
       "    <tr>\n",
       "      <th>fibrosisandother</th>\n",
       "      <td>100000.0</td>\n",
       "      <td>0.004790</td>\n",
       "      <td>0.069044</td>\n",
       "      <td>0.000000</td>\n",
       "      <td>0.000000</td>\n",
       "      <td>0.000000</td>\n",
       "      <td>0.000000</td>\n",
       "      <td>1.000000</td>\n",
       "    </tr>\n",
       "    <tr>\n",
       "      <th>malnutrition</th>\n",
       "      <td>100000.0</td>\n",
       "      <td>0.049480</td>\n",
       "      <td>0.216869</td>\n",
       "      <td>0.000000</td>\n",
       "      <td>0.000000</td>\n",
       "      <td>0.000000</td>\n",
       "      <td>0.000000</td>\n",
       "      <td>1.000000</td>\n",
       "    </tr>\n",
       "    <tr>\n",
       "      <th>hemo</th>\n",
       "      <td>100000.0</td>\n",
       "      <td>0.080000</td>\n",
       "      <td>0.271295</td>\n",
       "      <td>0.000000</td>\n",
       "      <td>0.000000</td>\n",
       "      <td>0.000000</td>\n",
       "      <td>0.000000</td>\n",
       "      <td>1.000000</td>\n",
       "    </tr>\n",
       "    <tr>\n",
       "      <th>hematocrit</th>\n",
       "      <td>100000.0</td>\n",
       "      <td>11.975939</td>\n",
       "      <td>2.031792</td>\n",
       "      <td>4.400000</td>\n",
       "      <td>10.900000</td>\n",
       "      <td>11.900000</td>\n",
       "      <td>12.900000</td>\n",
       "      <td>24.100000</td>\n",
       "    </tr>\n",
       "    <tr>\n",
       "      <th>neutrophils</th>\n",
       "      <td>100000.0</td>\n",
       "      <td>10.177455</td>\n",
       "      <td>5.353131</td>\n",
       "      <td>0.100000</td>\n",
       "      <td>7.700000</td>\n",
       "      <td>9.400000</td>\n",
       "      <td>11.500000</td>\n",
       "      <td>245.900000</td>\n",
       "    </tr>\n",
       "    <tr>\n",
       "      <th>sodium</th>\n",
       "      <td>100000.0</td>\n",
       "      <td>137.891397</td>\n",
       "      <td>2.999669</td>\n",
       "      <td>124.912632</td>\n",
       "      <td>135.871062</td>\n",
       "      <td>137.887151</td>\n",
       "      <td>139.912885</td>\n",
       "      <td>151.387283</td>\n",
       "    </tr>\n",
       "    <tr>\n",
       "      <th>glucose</th>\n",
       "      <td>100000.0</td>\n",
       "      <td>141.963384</td>\n",
       "      <td>29.992996</td>\n",
       "      <td>-1.005927</td>\n",
       "      <td>121.682383</td>\n",
       "      <td>142.088545</td>\n",
       "      <td>162.180996</td>\n",
       "      <td>271.444277</td>\n",
       "    </tr>\n",
       "    <tr>\n",
       "      <th>bloodureanitro</th>\n",
       "      <td>100000.0</td>\n",
       "      <td>14.097185</td>\n",
       "      <td>12.952454</td>\n",
       "      <td>1.000000</td>\n",
       "      <td>11.000000</td>\n",
       "      <td>12.000000</td>\n",
       "      <td>14.000000</td>\n",
       "      <td>682.500000</td>\n",
       "    </tr>\n",
       "    <tr>\n",
       "      <th>creatinine</th>\n",
       "      <td>100000.0</td>\n",
       "      <td>1.099350</td>\n",
       "      <td>0.200262</td>\n",
       "      <td>0.219770</td>\n",
       "      <td>0.964720</td>\n",
       "      <td>1.098764</td>\n",
       "      <td>1.234867</td>\n",
       "      <td>2.035202</td>\n",
       "    </tr>\n",
       "    <tr>\n",
       "      <th>bmi</th>\n",
       "      <td>100000.0</td>\n",
       "      <td>29.805759</td>\n",
       "      <td>2.003769</td>\n",
       "      <td>21.992683</td>\n",
       "      <td>28.454235</td>\n",
       "      <td>29.807516</td>\n",
       "      <td>31.156885</td>\n",
       "      <td>38.935293</td>\n",
       "    </tr>\n",
       "    <tr>\n",
       "      <th>pulse</th>\n",
       "      <td>100000.0</td>\n",
       "      <td>73.444720</td>\n",
       "      <td>11.644555</td>\n",
       "      <td>21.000000</td>\n",
       "      <td>66.000000</td>\n",
       "      <td>73.000000</td>\n",
       "      <td>81.000000</td>\n",
       "      <td>130.000000</td>\n",
       "    </tr>\n",
       "    <tr>\n",
       "      <th>respiration</th>\n",
       "      <td>100000.0</td>\n",
       "      <td>6.493768</td>\n",
       "      <td>0.568473</td>\n",
       "      <td>0.200000</td>\n",
       "      <td>6.500000</td>\n",
       "      <td>6.500000</td>\n",
       "      <td>6.500000</td>\n",
       "      <td>10.000000</td>\n",
       "    </tr>\n",
       "    <tr>\n",
       "      <th>secondarydiagnosisnonicd9</th>\n",
       "      <td>100000.0</td>\n",
       "      <td>2.123310</td>\n",
       "      <td>2.050641</td>\n",
       "      <td>0.000000</td>\n",
       "      <td>1.000000</td>\n",
       "      <td>1.000000</td>\n",
       "      <td>3.000000</td>\n",
       "      <td>10.000000</td>\n",
       "    </tr>\n",
       "    <tr>\n",
       "      <th>lengthofstay</th>\n",
       "      <td>100000.0</td>\n",
       "      <td>4.001030</td>\n",
       "      <td>2.360310</td>\n",
       "      <td>1.000000</td>\n",
       "      <td>2.000000</td>\n",
       "      <td>4.000000</td>\n",
       "      <td>6.000000</td>\n",
       "      <td>17.000000</td>\n",
       "    </tr>\n",
       "  </tbody>\n",
       "</table>\n",
       "</div>"
      ],
      "text/plain": [
       "                               count          mean           std         min  \\\n",
       "eid                         100000.0  50000.500000  28867.657797    1.000000   \n",
       "dialysisrenalendstage       100000.0      0.036420      0.187334    0.000000   \n",
       "asthma                      100000.0      0.035270      0.184462    0.000000   \n",
       "irondef                     100000.0      0.094940      0.293134    0.000000   \n",
       "pneum                       100000.0      0.039450      0.194664    0.000000   \n",
       "substancedependence         100000.0      0.063060      0.243072    0.000000   \n",
       "psychologicaldisordermajor  100000.0      0.239040      0.426499    0.000000   \n",
       "depress                     100000.0      0.051660      0.221341    0.000000   \n",
       "psychother                  100000.0      0.049390      0.216682    0.000000   \n",
       "fibrosisandother            100000.0      0.004790      0.069044    0.000000   \n",
       "malnutrition                100000.0      0.049480      0.216869    0.000000   \n",
       "hemo                        100000.0      0.080000      0.271295    0.000000   \n",
       "hematocrit                  100000.0     11.975939      2.031792    4.400000   \n",
       "neutrophils                 100000.0     10.177455      5.353131    0.100000   \n",
       "sodium                      100000.0    137.891397      2.999669  124.912632   \n",
       "glucose                     100000.0    141.963384     29.992996   -1.005927   \n",
       "bloodureanitro              100000.0     14.097185     12.952454    1.000000   \n",
       "creatinine                  100000.0      1.099350      0.200262    0.219770   \n",
       "bmi                         100000.0     29.805759      2.003769   21.992683   \n",
       "pulse                       100000.0     73.444720     11.644555   21.000000   \n",
       "respiration                 100000.0      6.493768      0.568473    0.200000   \n",
       "secondarydiagnosisnonicd9   100000.0      2.123310      2.050641    0.000000   \n",
       "lengthofstay                100000.0      4.001030      2.360310    1.000000   \n",
       "\n",
       "                                     25%           50%           75%  \\\n",
       "eid                         25000.750000  50000.500000  75000.250000   \n",
       "dialysisrenalendstage           0.000000      0.000000      0.000000   \n",
       "asthma                          0.000000      0.000000      0.000000   \n",
       "irondef                         0.000000      0.000000      0.000000   \n",
       "pneum                           0.000000      0.000000      0.000000   \n",
       "substancedependence             0.000000      0.000000      0.000000   \n",
       "psychologicaldisordermajor      0.000000      0.000000      0.000000   \n",
       "depress                         0.000000      0.000000      0.000000   \n",
       "psychother                      0.000000      0.000000      0.000000   \n",
       "fibrosisandother                0.000000      0.000000      0.000000   \n",
       "malnutrition                    0.000000      0.000000      0.000000   \n",
       "hemo                            0.000000      0.000000      0.000000   \n",
       "hematocrit                     10.900000     11.900000     12.900000   \n",
       "neutrophils                     7.700000      9.400000     11.500000   \n",
       "sodium                        135.871062    137.887151    139.912885   \n",
       "glucose                       121.682383    142.088545    162.180996   \n",
       "bloodureanitro                 11.000000     12.000000     14.000000   \n",
       "creatinine                      0.964720      1.098764      1.234867   \n",
       "bmi                            28.454235     29.807516     31.156885   \n",
       "pulse                          66.000000     73.000000     81.000000   \n",
       "respiration                     6.500000      6.500000      6.500000   \n",
       "secondarydiagnosisnonicd9       1.000000      1.000000      3.000000   \n",
       "lengthofstay                    2.000000      4.000000      6.000000   \n",
       "\n",
       "                                      max  \n",
       "eid                         100000.000000  \n",
       "dialysisrenalendstage            1.000000  \n",
       "asthma                           1.000000  \n",
       "irondef                          1.000000  \n",
       "pneum                            1.000000  \n",
       "substancedependence              1.000000  \n",
       "psychologicaldisordermajor       1.000000  \n",
       "depress                          1.000000  \n",
       "psychother                       1.000000  \n",
       "fibrosisandother                 1.000000  \n",
       "malnutrition                     1.000000  \n",
       "hemo                             1.000000  \n",
       "hematocrit                      24.100000  \n",
       "neutrophils                    245.900000  \n",
       "sodium                         151.387283  \n",
       "glucose                        271.444277  \n",
       "bloodureanitro                 682.500000  \n",
       "creatinine                       2.035202  \n",
       "bmi                             38.935293  \n",
       "pulse                          130.000000  \n",
       "respiration                     10.000000  \n",
       "secondarydiagnosisnonicd9       10.000000  \n",
       "lengthofstay                    17.000000  "
      ]
     },
     "execution_count": 6,
     "metadata": {},
     "output_type": "execute_result"
    }
   ],
   "source": [
    "df.describe().T"
   ]
  },
  {
   "cell_type": "code",
   "execution_count": 7,
   "metadata": {},
   "outputs": [
    {
     "data": {
      "text/plain": [
       "Text(0.5, 1.0, 'length of stay (days at Hospital)')"
      ]
     },
     "execution_count": 7,
     "metadata": {},
     "output_type": "execute_result"
    },
    {
     "data": {
      "image/png": "[encoded data removed]",
      "text/plain": [
       "<Figure size 1440x360 with 1 Axes>"
      ]
     },
     "metadata": {},
     "output_type": "display_data"
    }
   ],
   "source": [
    "pl = sns.factorplot('lengthofstay',data=df, aspect=4, kind='count')\n",
    "pl.set_xticklabels()\n",
    "plt.title('length of stay (days at Hospital)', size=25)"
   ]
  },
  {
   "cell_type": "code",
   "execution_count": 14,
   "metadata": {},
   "outputs": [
    {
     "data": {
      "text/plain": [
       "Text(0.5, 1.0, 'Days (LOS)')"
      ]
     },
     "execution_count": 14,
     "metadata": {},
     "output_type": "execute_result"
    },
    {
     "data": {
      "image/png": "[encoded data removed]",
      "text/plain": [
       "<Figure size 360x360 with 1 Axes>"
      ]
     },
     "metadata": {},
     "output_type": "display_data"
    }
   ],
   "source": [
    "sns.factorplot('LOS',data=df,kind='count')\n",
    "plt.title('Days (LOS)', size=18)"
   ]
  },
  {
   "cell_type": "code",
   "execution_count": 15,
   "metadata": {},
   "outputs": [
    {
     "data": {
      "text/plain": [
       "1-3      0.46872\n",
       "4-7      0.44563\n",
       "8-11     0.08296\n",
       "12-15    0.00259\n",
       "15-18    0.00010\n",
       "Name: LOS, dtype: float64"
      ]
     },
     "execution_count": 15,
     "metadata": {},
     "output_type": "execute_result"
    }
   ],
   "source": [
    "df.LOS.value_counts(ascending=False, normalize=True)"
   ]
  },
  {
   "cell_type": "code",
   "execution_count": 8,
   "metadata": {},
   "outputs": [
    {
     "name": "stdout",
     "output_type": "stream",
     "text": [
      "Min Value 1\n",
      "Max Value  17\n",
      "Q1  2.0\n",
      "Q3  6.0\n",
      "IQR  4.0\n",
      "lower_limit -4.0\n",
      "upper_limit 12.0\n"
     ]
    }
   ],
   "source": [
    "#we know Q3 AND Q1 AND IQR=Q3-Q1, any data point which is less than Q1-1.5IQR or Q3+1.5IQR are consider as outlier\n",
    "# Analysis on lengthofstay feature\n",
    "Q1=df.lengthofstay.quantile(.25)\n",
    "Q3=df.lengthofstay.quantile(.75)\n",
    "IQR=Q3-Q1\n",
    "lower_limit=Q1-(1.5*IQR)\n",
    "upper_limit=Q3+(1.5*IQR)\n",
    "print(\"Min Value\",df.lengthofstay.min())\n",
    "print(\"Max Value \",df.lengthofstay.max())\n",
    "print(\"Q1 \",Q1)\n",
    "print(\"Q3 \",Q3)\n",
    "print(\"IQR \",IQR)\n",
    "print('lower_limit',lower_limit)\n",
    "print('upper_limit',upper_limit)"
   ]
  },
  {
   "cell_type": "markdown",
   "metadata": {},
   "source": [
    "## Analysis of continous variables"
   ]
  },
  {
   "cell_type": "code",
   "execution_count": 9,
   "metadata": {},
   "outputs": [],
   "source": [
    "def findoutliers(column):\n",
    "    outliers=[]\n",
    "    Q1=column.quantile(.25)\n",
    "    Q3=column.quantile(.75)\n",
    "    IQR=Q3-Q1\n",
    "    lower_limit=Q1-(1.5*IQR)\n",
    "    upper_limit=Q3+(1.5*IQR)\n",
    "    for out1 in column:\n",
    "        if out1>upper_limit or out1 <lower_limit:\n",
    "            outliers.append(out1)\n",
    "            \n",
    "    return np.array(outliers)  \n",
    "\n",
    "def plotchart(col):\n",
    "    fix, (ax1,ax2) =plt.subplots(1,2,figsize=(7,5))\n",
    "    sns.boxplot(col, orient='v',ax=ax1)\n",
    "    ax1.set_ylabel=col.name\n",
    "    ax1.set_title('Box plot of {}'.format(col.name))\n",
    "    sns.distplot(col,ax=ax2) \n",
    "    ax2.set_title('Distribution plot of {}'.format(col.name))\n",
    "    \n",
    "def analysis_column(col):\n",
    "    print('count of outlier ', len(findoutliers(col)))\n",
    "    print('Mean ',format(col.mean()))\n",
    "    print('Median ',format(col.median()))\n",
    "    print('Missing values',format(col.isnull().sum()))\n",
    "    print('% of Missing values',format(round(100*(col.isnull().sum()/len(col)),2)))\n",
    "    \n",
    "    plotchart(col)"
   ]
  },
  {
   "cell_type": "code",
   "execution_count": 10,
   "metadata": {},
   "outputs": [
    {
     "data": {
      "text/plain": [
       "array([13, 13, 13, 14, 13, 13, 13, 14, 13, 17, 13, 13, 13, 13, 14, 13, 16,\n",
       "       13, 13, 13, 13, 14, 13, 13, 13, 14, 13, 13, 14, 13, 13, 15, 13, 16,\n",
       "       14, 14, 13, 13, 14, 13, 15, 13, 13, 13, 13, 14, 13, 13, 13, 14, 15,\n",
       "       13, 14, 13, 15, 13, 13, 15, 13, 16, 13, 17, 13, 13, 13, 14, 13, 14,\n",
       "       15, 13, 15, 13, 14, 13, 14, 13, 17, 13, 14, 13, 15, 16, 13, 13, 16,\n",
       "       13, 15, 14, 13, 14, 14, 15, 14, 14, 13, 14, 13, 15, 14, 13, 14, 13,\n",
       "       15, 13, 13, 13, 13, 13, 14, 13, 15, 13, 16, 13, 13, 14, 15, 13, 13,\n",
       "       15, 17, 13, 14, 13, 14, 13, 13, 14, 13, 13, 14, 15])"
      ]
     },
     "execution_count": 10,
     "metadata": {},
     "output_type": "execute_result"
    }
   ],
   "source": [
    "findoutliers(df.lengthofstay)"
   ]
  },
  {
   "cell_type": "code",
   "execution_count": 11,
   "metadata": {},
   "outputs": [
    {
     "name": "stdout",
     "output_type": "stream",
     "text": [
      "132\n"
     ]
    }
   ],
   "source": [
    "print(len(findoutliers(df.lengthofstay))) #no of rows having outlier"
   ]
  },
  {
   "cell_type": "code",
   "execution_count": 12,
   "metadata": {},
   "outputs": [
    {
     "data": {
      "text/plain": [
       "<AxesSubplot:>"
      ]
     },
     "execution_count": 12,
     "metadata": {},
     "output_type": "execute_result"
    },
    {
     "data": {
      "image/png": "[encoded data removed]",
      "text/plain": [
       "<Figure size 432x288 with 1 Axes>"
      ]
     },
     "metadata": {},
     "output_type": "display_data"
    }
   ],
   "source": [
    "df.lengthofstay.hist()"
   ]
  },
  {
   "cell_type": "code",
   "execution_count": 13,
   "metadata": {},
   "outputs": [
    {
     "data": {
      "image/png": "[encoded data removed]",
      "text/plain": [
       "<Figure size 504x360 with 2 Axes>"
      ]
     },
     "metadata": {},
     "output_type": "display_data"
    }
   ],
   "source": [
    "plotchart(df.lengthofstay)"
   ]
  },
  {
   "cell_type": "markdown",
   "metadata": {},
   "source": [
    "## Analysis of Caegorical Variables"
   ]
  },
  {
   "cell_type": "code",
   "execution_count": null,
   "metadata": {},
   "outputs": [],
   "source": []
  },
  {
   "cell_type": "code",
   "execution_count": null,
   "metadata": {},
   "outputs": [],
   "source": []
  },
  {
   "cell_type": "code",
   "execution_count": null,
   "metadata": {},
   "outputs": [],
   "source": []
  },
  {
   "cell_type": "code",
   "execution_count": null,
   "metadata": {},
   "outputs": [],
   "source": []
  },
  {
   "cell_type": "code",
   "execution_count": null,
   "metadata": {},
   "outputs": [],
   "source": []
  },
  {
   "cell_type": "markdown",
   "metadata": {},
   "source": [
    "## Bivariate Analysis"
   ]
  },
  {
   "cell_type": "code",
   "execution_count": null,
   "metadata": {},
   "outputs": [],
   "source": []
  }
 ],
 "metadata": {
  "kernelspec": {
   "display_name": "Python 3",
   "language": "python",
   "name": "python3"
  },
  "language_info": {
   "codemirror_mode": {
    "name": "ipython",
    "version": 3
   },
   "file_extension": ".py",
   "mimetype": "text/x-python",
   "name": "python",
   "nbconvert_exporter": "python",
   "pygments_lexer": "ipython3",
   "version": "3.8.5"
  }
 },
 "nbformat": 4,
 "nbformat_minor": 4
}
