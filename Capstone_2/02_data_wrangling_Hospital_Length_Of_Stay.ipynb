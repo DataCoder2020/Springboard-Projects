{
 "cells": [
  {
   "cell_type": "markdown",
   "metadata": {},
   "source": [
    "# 02_Data Wrangling_Hospital Length Of Stay"
   ]
  },
  {
   "cell_type": "markdown",
   "metadata": {},
   "source": [
    "## Project Overview"
   ]
  },
  {
   "cell_type": "markdown",
   "metadata": {},
   "source": [
    "The goal of this project is creating a model that predicts the length-of-stay for each patient at the time of admission,\n",
    "also identify factors are associated with length of hospital stay based on health records, in order to manage hospital stay more efficiently.\n",
    "\n",
    "The inputs to the prediction model will include features such as patient’s diagnosis category, and continuous laboratory measurements."
   ]
  },
  {
   "cell_type": "markdown",
   "metadata": {},
   "source": [
    "#  Imports"
   ]
  },
  {
   "cell_type": "code",
   "execution_count": 1,
   "metadata": {},
   "outputs": [],
   "source": [
    "import pandas as pd\n",
    "import matplotlib.pyplot as plt\n",
    "import seaborn as sns\n",
    "import numpy as np\n",
    "import os\n",
    "import missingno as msno\n",
    "from scipy import stats\n",
    "from matplotlib.legend import Legend\n",
    "from pylab import rcParams"
   ]
  },
  {
   "cell_type": "code",
   "execution_count": 2,
   "metadata": {},
   "outputs": [],
   "source": [
    "%matplotlib inline\n",
    "#rcParams['figure.figsize']=10,8\n",
    "sns.set()\n",
    "import warnings\n",
    "warnings.filterwarnings('ignore')\n",
    "sns.set_theme(style=\"whitegrid\")"
   ]
  },
  {
   "cell_type": "markdown",
   "metadata": {},
   "source": [
    "# Dataset"
   ]
  },
  {
   "cell_type": "markdown",
   "metadata": {},
   "source": [
    "LengthOfStay.csv\n",
    "The LengthOfStay.csv file contains the following patient information.\n",
    "\n",
    "\n",
    "https://microsoft.github.io/r-server-hospital-length-of-stay/index.html\n",
    "\n",
    "https://github.com/microsoft/r-server-hospital-length-of-stay/tree/master/Data\n",
    "\n",
    "https://github.com/microsoft/r-server-hospital-length-of-stay/blob/master/Python/Hospital_Length_Of_Stay_Notebook.ipynb"
   ]
  },
  {
   "cell_type": "code",
   "execution_count": 3,
   "metadata": {},
   "outputs": [],
   "source": [
    "#df=pd.read_csv('LengthOfStay.csv')\n",
    "df=pd.read_csv('LengthOfStay_new.csv') # it contains LOS"
   ]
  },
  {
   "cell_type": "code",
   "execution_count": 4,
   "metadata": {},
   "outputs": [
    {
     "data": {
      "text/plain": [
       "(100000, 29)"
      ]
     },
     "execution_count": 4,
     "metadata": {},
     "output_type": "execute_result"
    }
   ],
   "source": [
    "df.shape"
   ]
  },
  {
   "cell_type": "code",
   "execution_count": 5,
   "metadata": {},
   "outputs": [
    {
     "data": {
      "text/html": [
       "<div>\n",
       "<style scoped>\n",
       "    .dataframe tbody tr th:only-of-type {\n",
       "        vertical-align: middle;\n",
       "    }\n",
       "\n",
       "    .dataframe tbody tr th {\n",
       "        vertical-align: top;\n",
       "    }\n",
       "\n",
       "    .dataframe thead th {\n",
       "        text-align: right;\n",
       "    }\n",
       "</style>\n",
       "<table border=\"1\" class=\"dataframe\">\n",
       "  <thead>\n",
       "    <tr style=\"text-align: right;\">\n",
       "      <th></th>\n",
       "      <th>eid</th>\n",
       "      <th>vdate</th>\n",
       "      <th>rcount</th>\n",
       "      <th>gender</th>\n",
       "      <th>dialysisrenalendstage</th>\n",
       "      <th>asthma</th>\n",
       "      <th>irondef</th>\n",
       "      <th>pneum</th>\n",
       "      <th>substancedependence</th>\n",
       "      <th>psychologicaldisordermajor</th>\n",
       "      <th>...</th>\n",
       "      <th>bloodureanitro</th>\n",
       "      <th>creatinine</th>\n",
       "      <th>bmi</th>\n",
       "      <th>pulse</th>\n",
       "      <th>respiration</th>\n",
       "      <th>secondarydiagnosisnonicd9</th>\n",
       "      <th>discharged</th>\n",
       "      <th>facid</th>\n",
       "      <th>lengthofstay</th>\n",
       "      <th>LOS</th>\n",
       "    </tr>\n",
       "  </thead>\n",
       "  <tbody>\n",
       "    <tr>\n",
       "      <th>0</th>\n",
       "      <td>1</td>\n",
       "      <td>8/29/2012</td>\n",
       "      <td>0</td>\n",
       "      <td>F</td>\n",
       "      <td>0</td>\n",
       "      <td>0</td>\n",
       "      <td>0</td>\n",
       "      <td>0</td>\n",
       "      <td>0</td>\n",
       "      <td>0</td>\n",
       "      <td>...</td>\n",
       "      <td>12.0</td>\n",
       "      <td>1.390722</td>\n",
       "      <td>30.432418</td>\n",
       "      <td>96</td>\n",
       "      <td>6.5</td>\n",
       "      <td>4</td>\n",
       "      <td>9/1/2012</td>\n",
       "      <td>B</td>\n",
       "      <td>3</td>\n",
       "      <td>1-3</td>\n",
       "    </tr>\n",
       "    <tr>\n",
       "      <th>1</th>\n",
       "      <td>2</td>\n",
       "      <td>5/26/2012</td>\n",
       "      <td>5+</td>\n",
       "      <td>F</td>\n",
       "      <td>0</td>\n",
       "      <td>0</td>\n",
       "      <td>0</td>\n",
       "      <td>0</td>\n",
       "      <td>0</td>\n",
       "      <td>0</td>\n",
       "      <td>...</td>\n",
       "      <td>8.0</td>\n",
       "      <td>0.943164</td>\n",
       "      <td>28.460516</td>\n",
       "      <td>61</td>\n",
       "      <td>6.5</td>\n",
       "      <td>1</td>\n",
       "      <td>6/2/2012</td>\n",
       "      <td>A</td>\n",
       "      <td>7</td>\n",
       "      <td>4-7</td>\n",
       "    </tr>\n",
       "    <tr>\n",
       "      <th>2</th>\n",
       "      <td>3</td>\n",
       "      <td>9/22/2012</td>\n",
       "      <td>1</td>\n",
       "      <td>F</td>\n",
       "      <td>0</td>\n",
       "      <td>0</td>\n",
       "      <td>0</td>\n",
       "      <td>0</td>\n",
       "      <td>0</td>\n",
       "      <td>0</td>\n",
       "      <td>...</td>\n",
       "      <td>12.0</td>\n",
       "      <td>1.065750</td>\n",
       "      <td>28.843812</td>\n",
       "      <td>64</td>\n",
       "      <td>6.5</td>\n",
       "      <td>2</td>\n",
       "      <td>9/25/2012</td>\n",
       "      <td>B</td>\n",
       "      <td>3</td>\n",
       "      <td>1-3</td>\n",
       "    </tr>\n",
       "    <tr>\n",
       "      <th>3</th>\n",
       "      <td>4</td>\n",
       "      <td>8/9/2012</td>\n",
       "      <td>0</td>\n",
       "      <td>F</td>\n",
       "      <td>0</td>\n",
       "      <td>0</td>\n",
       "      <td>0</td>\n",
       "      <td>0</td>\n",
       "      <td>0</td>\n",
       "      <td>0</td>\n",
       "      <td>...</td>\n",
       "      <td>12.0</td>\n",
       "      <td>0.906862</td>\n",
       "      <td>27.959007</td>\n",
       "      <td>76</td>\n",
       "      <td>6.5</td>\n",
       "      <td>1</td>\n",
       "      <td>8/10/2012</td>\n",
       "      <td>A</td>\n",
       "      <td>1</td>\n",
       "      <td>1-3</td>\n",
       "    </tr>\n",
       "    <tr>\n",
       "      <th>4</th>\n",
       "      <td>5</td>\n",
       "      <td>12/20/2012</td>\n",
       "      <td>0</td>\n",
       "      <td>F</td>\n",
       "      <td>0</td>\n",
       "      <td>0</td>\n",
       "      <td>0</td>\n",
       "      <td>1</td>\n",
       "      <td>0</td>\n",
       "      <td>1</td>\n",
       "      <td>...</td>\n",
       "      <td>11.5</td>\n",
       "      <td>1.242854</td>\n",
       "      <td>30.258927</td>\n",
       "      <td>67</td>\n",
       "      <td>5.6</td>\n",
       "      <td>2</td>\n",
       "      <td>12/24/2012</td>\n",
       "      <td>E</td>\n",
       "      <td>4</td>\n",
       "      <td>4-7</td>\n",
       "    </tr>\n",
       "  </tbody>\n",
       "</table>\n",
       "<p>5 rows × 29 columns</p>\n",
       "</div>"
      ],
      "text/plain": [
       "   eid       vdate rcount gender  dialysisrenalendstage  asthma  irondef  \\\n",
       "0    1   8/29/2012      0      F                      0       0        0   \n",
       "1    2   5/26/2012     5+      F                      0       0        0   \n",
       "2    3   9/22/2012      1      F                      0       0        0   \n",
       "3    4    8/9/2012      0      F                      0       0        0   \n",
       "4    5  12/20/2012      0      F                      0       0        0   \n",
       "\n",
       "   pneum  substancedependence  psychologicaldisordermajor  ...  \\\n",
       "0      0                    0                           0  ...   \n",
       "1      0                    0                           0  ...   \n",
       "2      0                    0                           0  ...   \n",
       "3      0                    0                           0  ...   \n",
       "4      1                    0                           1  ...   \n",
       "\n",
       "   bloodureanitro  creatinine        bmi  pulse  respiration  \\\n",
       "0            12.0    1.390722  30.432418     96          6.5   \n",
       "1             8.0    0.943164  28.460516     61          6.5   \n",
       "2            12.0    1.065750  28.843812     64          6.5   \n",
       "3            12.0    0.906862  27.959007     76          6.5   \n",
       "4            11.5    1.242854  30.258927     67          5.6   \n",
       "\n",
       "   secondarydiagnosisnonicd9  discharged  facid  lengthofstay  LOS  \n",
       "0                          4    9/1/2012      B             3  1-3  \n",
       "1                          1    6/2/2012      A             7  4-7  \n",
       "2                          2   9/25/2012      B             3  1-3  \n",
       "3                          1   8/10/2012      A             1  1-3  \n",
       "4                          2  12/24/2012      E             4  4-7  \n",
       "\n",
       "[5 rows x 29 columns]"
      ]
     },
     "execution_count": 5,
     "metadata": {},
     "output_type": "execute_result"
    }
   ],
   "source": [
    "df.head()"
   ]
  },
  {
   "cell_type": "code",
   "execution_count": 6,
   "metadata": {},
   "outputs": [
    {
     "name": "stdout",
     "output_type": "stream",
     "text": [
      "<class 'pandas.core.frame.DataFrame'>\n",
      "RangeIndex: 100000 entries, 0 to 99999\n",
      "Data columns (total 29 columns):\n",
      " #   Column                      Non-Null Count   Dtype  \n",
      "---  ------                      --------------   -----  \n",
      " 0   eid                         100000 non-null  int64  \n",
      " 1   vdate                       100000 non-null  object \n",
      " 2   rcount                      100000 non-null  object \n",
      " 3   gender                      100000 non-null  object \n",
      " 4   dialysisrenalendstage       100000 non-null  int64  \n",
      " 5   asthma                      100000 non-null  int64  \n",
      " 6   irondef                     100000 non-null  int64  \n",
      " 7   pneum                       100000 non-null  int64  \n",
      " 8   substancedependence         100000 non-null  int64  \n",
      " 9   psychologicaldisordermajor  100000 non-null  int64  \n",
      " 10  depress                     100000 non-null  int64  \n",
      " 11  psychother                  100000 non-null  int64  \n",
      " 12  fibrosisandother            100000 non-null  int64  \n",
      " 13  malnutrition                100000 non-null  int64  \n",
      " 14  hemo                        100000 non-null  int64  \n",
      " 15  hematocrit                  100000 non-null  float64\n",
      " 16  neutrophils                 100000 non-null  float64\n",
      " 17  sodium                      100000 non-null  float64\n",
      " 18  glucose                     100000 non-null  float64\n",
      " 19  bloodureanitro              100000 non-null  float64\n",
      " 20  creatinine                  100000 non-null  float64\n",
      " 21  bmi                         100000 non-null  float64\n",
      " 22  pulse                       100000 non-null  int64  \n",
      " 23  respiration                 100000 non-null  float64\n",
      " 24  secondarydiagnosisnonicd9   100000 non-null  int64  \n",
      " 25  discharged                  100000 non-null  object \n",
      " 26  facid                       100000 non-null  object \n",
      " 27  lengthofstay                100000 non-null  int64  \n",
      " 28  LOS                         100000 non-null  object \n",
      "dtypes: float64(8), int64(15), object(6)\n",
      "memory usage: 22.1+ MB\n"
     ]
    }
   ],
   "source": [
    "df.info()"
   ]
  },
  {
   "cell_type": "markdown",
   "metadata": {},
   "source": [
    "# Features"
   ]
  },
  {
   "cell_type": "markdown",
   "metadata": {},
   "source": [
    "## 1. LengthofStay ( Target Feature )"
   ]
  },
  {
   "cell_type": "markdown",
   "metadata": {},
   "source": [
    "Length of stay for the encounter"
   ]
  },
  {
   "cell_type": "code",
   "execution_count": 7,
   "metadata": {},
   "outputs": [
    {
     "data": {
      "text/plain": [
       "1     0.17979\n",
       "3     0.16068\n",
       "4     0.14822\n",
       "2     0.12825\n",
       "5     0.12116\n",
       "6     0.10362\n",
       "7     0.07263\n",
       "8     0.04652\n",
       "9     0.02184\n",
       "10    0.01000\n",
       "11    0.00460\n",
       "12    0.00137\n",
       "13    0.00075\n",
       "14    0.00031\n",
       "15    0.00016\n",
       "16    0.00006\n",
       "17    0.00004\n",
       "Name: lengthofstay, dtype: float64"
      ]
     },
     "execution_count": 7,
     "metadata": {},
     "output_type": "execute_result"
    }
   ],
   "source": [
    "df.lengthofstay.value_counts(normalize=True)"
   ]
  },
  {
   "cell_type": "code",
   "execution_count": 8,
   "metadata": {},
   "outputs": [
    {
     "data": {
      "text/plain": [
       "Text(0.5, 1.0, 'length of stay (days at Hospital)')"
      ]
     },
     "execution_count": 8,
     "metadata": {},
     "output_type": "execute_result"
    },
    {
     "data": {
      "image/png": "[encoded data removed]",
      "text/plain": [
       "<Figure size 1440x360 with 1 Axes>"
      ]
     },
     "metadata": {},
     "output_type": "display_data"
    }
   ],
   "source": [
    "pl = sns.factorplot('lengthofstay',data=df, aspect=4, kind='count')\n",
    "pl.set_xticklabels()\n",
    "plt.title('length of stay (days at Hospital)', size=25)"
   ]
  },
  {
   "cell_type": "markdown",
   "metadata": {},
   "source": [
    "so here 1-5 merged into short_stay level, 6-11  merged into  medium stay and 12-17  merged into high_stay."
   ]
  },
  {
   "cell_type": "code",
   "execution_count": 9,
   "metadata": {},
   "outputs": [],
   "source": [
    "#LOS = pd.Series([]) \n",
    " \n",
    "#running a for loop and asigning some values to series \n",
    "\n",
    "#for i in range(len(df)): \n",
    "    \n",
    "#    if df[\"lengthofstay\"][i] >= 1 and df[\"lengthofstay\"][i]<= 3: \n",
    "#         LOS[i]=\"1-3\"\n",
    "            \n",
    "#    elif df[\"lengthofstay\"][i] > 3 and df[\"lengthofstay\"][i]<= 7 :\n",
    "#        LOS[i]=\"4-7\"\n",
    "    \n",
    "#    elif df[\"lengthofstay\"][i] > 7  :\n",
    "#        LOS[i]=\">7\"        \n",
    "    \n",
    "            \n",
    "#df.insert(28, \"LOS\", LOS) \n",
    "\n",
    "#df.to_csv (r'LengthOfStay_new.csv', index = False, header=True)"
   ]
  },
  {
   "cell_type": "code",
   "execution_count": 10,
   "metadata": {},
   "outputs": [
    {
     "data": {
      "text/plain": [
       "1-3    0.46872\n",
       "4-7    0.44563\n",
       ">7     0.08565\n",
       "Name: LOS, dtype: float64"
      ]
     },
     "execution_count": 10,
     "metadata": {},
     "output_type": "execute_result"
    }
   ],
   "source": [
    "df.LOS.value_counts(ascending=False, normalize=True)"
   ]
  },
  {
   "cell_type": "code",
   "execution_count": 11,
   "metadata": {},
   "outputs": [
    {
     "data": {
      "text/plain": [
       "Text(0.5, 1.0, 'Days (LOS)')"
      ]
     },
     "execution_count": 11,
     "metadata": {},
     "output_type": "execute_result"
    },
    {
     "data": {
      "image/png": "[encoded data removed]",
      "text/plain": [
       "<Figure size 360x360 with 1 Axes>"
      ]
     },
     "metadata": {},
     "output_type": "display_data"
    }
   ],
   "source": [
    "sns.factorplot(df.LOS,data=df,kind='count')\n",
    "plt.title('Days (LOS)', size=18)"
   ]
  },
  {
   "cell_type": "markdown",
   "metadata": {},
   "source": [
    "## 2. Gender"
   ]
  },
  {
   "cell_type": "code",
   "execution_count": 12,
   "metadata": {},
   "outputs": [
    {
     "data": {
      "text/plain": [
       "F    0.57643\n",
       "M    0.42357\n",
       "Name: gender, dtype: float64"
      ]
     },
     "execution_count": 12,
     "metadata": {},
     "output_type": "execute_result"
    }
   ],
   "source": [
    "df.gender.value_counts(normalize=True)"
   ]
  },
  {
   "cell_type": "code",
   "execution_count": 13,
   "metadata": {},
   "outputs": [
    {
     "data": {
      "text/plain": [
       "Text(0.5, 1.0, 'Gender')"
      ]
     },
     "execution_count": 13,
     "metadata": {},
     "output_type": "execute_result"
    },
    {
     "data": {
      "image/png": "[encoded data removed]",
      "text/plain": [
       "<Figure size 360x360 with 1 Axes>"
      ]
     },
     "metadata": {},
     "output_type": "display_data"
    }
   ],
   "source": [
    "sns.factorplot('gender',data=df,kind='count')\n",
    "plt.title('Gender', size=18)"
   ]
  },
  {
   "cell_type": "markdown",
   "metadata": {},
   "source": [
    "## 3. Facility"
   ]
  },
  {
   "cell_type": "markdown",
   "metadata": {},
   "source": [
    "###  facid"
   ]
  },
  {
   "cell_type": "markdown",
   "metadata": {},
   "source": [
    "Facility ID at which the encounter occurred."
   ]
  },
  {
   "cell_type": "code",
   "execution_count": 14,
   "metadata": {},
   "outputs": [
    {
     "data": {
      "text/plain": [
       "E    0.30755\n",
       "A    0.30035\n",
       "B    0.30012\n",
       "C    0.04699\n",
       "D    0.04499\n",
       "Name: facid, dtype: float64"
      ]
     },
     "execution_count": 14,
     "metadata": {},
     "output_type": "execute_result"
    }
   ],
   "source": [
    "df.facid.value_counts( normalize=True)"
   ]
  },
  {
   "cell_type": "code",
   "execution_count": 15,
   "metadata": {},
   "outputs": [],
   "source": [
    "df.reset_index()\n",
    "df.set_index('facid')\n",
    "fac_data= {'Id':['C','E','A','B','D'],\n",
    "           'Name':['General Medicine 3 South','Behavioral 1 East','General Medicine 3 West','Pulmonary 2 West','Geriatrics 2 East'],\n",
    "           'Capacity':[30,95,75,80,100]}\n",
    "facility=pd.DataFrame(fac_data)"
   ]
  },
  {
   "cell_type": "code",
   "execution_count": 16,
   "metadata": {},
   "outputs": [],
   "source": [
    "facility.reset_index()\n",
    "facility.set_index('Id')\n",
    "df=pd.merge(df, facility, left_on='facid', right_on='Id')"
   ]
  },
  {
   "cell_type": "code",
   "execution_count": 17,
   "metadata": {},
   "outputs": [],
   "source": [
    "#sns.factorplot('facid',data=df,kind='count' )"
   ]
  },
  {
   "cell_type": "code",
   "execution_count": 18,
   "metadata": {},
   "outputs": [
    {
     "data": {
      "text/plain": [
       "Text(0.5, 1.0, 'Facility')"
      ]
     },
     "execution_count": 18,
     "metadata": {},
     "output_type": "execute_result"
    },
    {
     "data": {
      "image/png": "[encoded data removed]",
      "text/plain": [
       "<Figure size 432x288 with 1 Axes>"
      ]
     },
     "metadata": {},
     "output_type": "display_data"
    }
   ],
   "source": [
    "plt.subplots(figsize=(6,4))\n",
    "fac1 = df.groupby('Name')['Name'].count()\n",
    "y_pos=df['Name'].unique()\n",
    "plt.barh(y_pos, sorted(fac1),  color=['C02'] ) \n",
    "plt.title('Facility', size=18)\n"
   ]
  },
  {
   "cell_type": "markdown",
   "metadata": {},
   "source": [
    "###  LengthofStay vs gender"
   ]
  },
  {
   "cell_type": "code",
   "execution_count": 19,
   "metadata": {},
   "outputs": [
    {
     "data": {
      "image/png": "[encoded data removed]",
      "text/plain": [
       "<Figure size 432x288 with 1 Axes>"
      ]
     },
     "metadata": {},
     "output_type": "display_data"
    }
   ],
   "source": [
    "plt.subplots(figsize=(6,4))\n",
    "g = df.groupby('gender')['LOS'].count()\n",
    "g1=df['gender'].unique()\n",
    "plt.barh(g1, sorted(g), color=['C01']) \n",
    "plt.subplots_adjust(bottom=0.4, top=0.99)\n",
    "plt.title('LOS vs Gender', size=18)\n",
    "plt.xlabel('Length of stay', size=18)\n",
    "plt.ylabel('gender', size=18)\n",
    "plt.show()"
   ]
  },
  {
   "cell_type": "markdown",
   "metadata": {},
   "source": [
    "###  LengthofStay vs Facility"
   ]
  },
  {
   "cell_type": "code",
   "execution_count": 20,
   "metadata": {},
   "outputs": [
    {
     "data": {
      "image/png": "[encoded data removed]",
      "text/plain": [
       "<Figure size 432x288 with 1 Axes>"
      ]
     },
     "metadata": {},
     "output_type": "display_data"
    }
   ],
   "source": [
    "plt.subplots(figsize=(6,4))\n",
    "fac = df.groupby('facid')['LOS'].count()\n",
    "y_pos=df['Name'].unique()\n",
    "plt.barh(y_pos, sorted(fac),color=['C05']) \n",
    "#plt.yticks(y_pos, bars)\n",
    "plt.subplots_adjust(bottom=0.4, top=0.99)\n",
    "plt.title('LOS vs Facility', size=18)\n",
    "plt.xlabel('Length of stay', size=18)\n",
    "plt.ylabel('Facility', size=18)\n",
    "plt.show()"
   ]
  }
 ],
 "metadata": {
  "kernelspec": {
   "display_name": "Python 3",
   "language": "python",
   "name": "python3"
  },
  "language_info": {
   "codemirror_mode": {
    "name": "ipython",
    "version": 3
   },
   "file_extension": ".py",
   "mimetype": "text/x-python",
   "name": "python",
   "nbconvert_exporter": "python",
   "pygments_lexer": "ipython3",
   "version": "3.8.5"
  }
 },
 "nbformat": 4,
 "nbformat_minor": 4
}
