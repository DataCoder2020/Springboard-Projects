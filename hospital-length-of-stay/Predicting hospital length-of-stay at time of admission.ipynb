{
 "cells": [
  {
   "cell_type": "code",
   "execution_count": 1,
   "metadata": {},
   "outputs": [],
   "source": [
    "import pandas as pd\n",
    "import csv\n",
    "#import scikit-learn as "
   ]
  },
  {
   "cell_type": "code",
   "execution_count": 2,
   "metadata": {},
   "outputs": [],
   "source": [
    "#ADMISSIONS.csv, PATIENTS.csv, DIAGNOSES_ICD.csv, and ICUSTAYS.csv.\n",
    "Admissions = pd.read_csv(\"mimic-iii-clinical-database-demo-1.4/ADMISSIONS.csv\")\n",
    "Patients= pd.read_csv('mimic-iii-clinical-database-demo-1.4/PATIENTS.csv')\n",
    "Diagnoses=pd.read_csv('mimic-iii-clinical-database-demo-1.4/DIAGNOSES_ICD.csv')\n",
    "ICUstays=pd.read_csv('mimic-iii-clinical-database-demo-1.4/ICUSTAYS.csv')\n"
   ]
  },
  {
   "cell_type": "code",
   "execution_count": 3,
   "metadata": {},
   "outputs": [
    {
     "name": "stdout",
     "output_type": "stream",
     "text": [
      "Type     Column Name                    Example Value\n",
      "-----------------------------------------------------\n",
      "object   admission_location             TRANSFER FROM HOSP/EXTRAM\n",
      "object   admission_type                 EMERGENCY\n",
      "object   admittime                      2126-08-14 22:32:00\n",
      "object   deathtime                      2126-08-28 18:59:00\n",
      "object   diagnosis                      HEPATITIS B\n",
      "object   discharge_location             DEAD/EXPIRED\n",
      "object   dischtime                      2126-08-28 18:59:00\n",
      "object   edouttime                      nan\n",
      "object   edregtime                      nan\n",
      "object   ethnicity                      UNKNOWN/NOT SPECIFIED\n",
      "int64    hadm_id                        105331\n",
      "int64    has_chartevents_data           1\n",
      "int64    hospital_expire_flag           1\n",
      "object   insurance                      Private\n",
      "object   language                       nan\n",
      "object   marital_status                 SINGLE\n",
      "object   religion                       CATHOLIC\n",
      "int64    row_id                         12263\n",
      "int64    subject_id                     10011\n"
     ]
    }
   ],
   "source": [
    "Admissions.keys()\n",
    "def printColumnInfo(df):\n",
    "    template=\"%-8s %-30s %s\"\n",
    "    print(template % (\"Type\", \"Column Name\", \"Example Value\"))\n",
    "    print(\"-\"*53)\n",
    "    for c in df.columns:\n",
    "        print(template % (df[c].dtype, c, df[c].iloc[1]) )\n",
    "\n",
    "#sort a Pandas DataFrame by column names in Python        \n",
    "Ad=Admissions.sort_index(axis=1)        \n",
    "printColumnInfo(Ad)"
   ]
  },
  {
   "cell_type": "code",
   "execution_count": null,
   "metadata": {},
   "outputs": [],
   "source": []
  },
  {
   "cell_type": "code",
   "execution_count": 4,
   "metadata": {},
   "outputs": [
    {
     "name": "stdout",
     "output_type": "stream",
     "text": [
      "Type     Column Name                    Example Value\n",
      "-----------------------------------------------------\n",
      "object   dob                            2090-06-05 00:00:00\n",
      "object   dod                            2126-08-28 00:00:00\n",
      "object   dod_hosp                       2126-08-28 00:00:00\n",
      "object   dod_ssn                        nan\n",
      "int64    expire_flag                    1\n",
      "object   gender                         F\n",
      "int64    row_id                         9472\n",
      "int64    subject_id                     10011\n"
     ]
    }
   ],
   "source": [
    "\n",
    "Patients.keys()\n",
    "\n",
    "#sort a Pandas DataFrame by column names in Python        \n",
    "Pa=Patients.sort_index(axis=1)        \n",
    "printColumnInfo(Pa)"
   ]
  },
  {
   "cell_type": "code",
   "execution_count": 5,
   "metadata": {},
   "outputs": [
    {
     "name": "stdout",
     "output_type": "stream",
     "text": [
      "Type     Column Name                    Example Value\n",
      "-----------------------------------------------------\n",
      "int64    hadm_id                        142345\n",
      "object   icd9_code                      99662\n",
      "int64    row_id                         112345\n",
      "int64    seq_num                        2\n",
      "int64    subject_id                     10006\n"
     ]
    }
   ],
   "source": [
    "\n",
    "Diagnoses.keys()\n",
    "\n",
    "#sort a Pandas DataFrame by column names in Python        \n",
    "Di=Diagnoses.sort_index(axis=1)        \n",
    "printColumnInfo(Di)"
   ]
  },
  {
   "cell_type": "code",
   "execution_count": 6,
   "metadata": {},
   "outputs": [
    {
     "name": "stdout",
     "output_type": "stream",
     "text": [
      "Type     Column Name                    Example Value\n",
      "-----------------------------------------------------\n",
      "object   dbsource                       carevue\n",
      "object   first_careunit                 MICU\n",
      "int64    first_wardid                   15\n",
      "int64    hadm_id                        105331\n",
      "int64    icustay_id                     232110\n",
      "object   intime                         2126-08-14 22:34:00\n",
      "object   last_careunit                  MICU\n",
      "int64    last_wardid                    15\n",
      "float64  los                            13.8507\n",
      "object   outtime                        2126-08-28 18:59:00\n",
      "int64    row_id                         12747\n",
      "int64    subject_id                     10011\n"
     ]
    }
   ],
   "source": [
    "\n",
    "ICUstays.keys()\n",
    "#sort a Pandas DataFrame by column names in Python        \n",
    "ICU=ICUstays.sort_index(axis=1)        \n",
    "printColumnInfo(ICU)"
   ]
  }
 ],
 "metadata": {
  "kernelspec": {
   "display_name": "Python 3",
   "language": "python",
   "name": "python3"
  },
  "language_info": {
   "codemirror_mode": {
    "name": "ipython",
    "version": 3
   },
   "file_extension": ".py",
   "mimetype": "text/x-python",
   "name": "python",
   "nbconvert_exporter": "python",
   "pygments_lexer": "ipython3",
   "version": "3.8.5"
  }
 },
 "nbformat": 4,
 "nbformat_minor": 4
}
