{
 "cells": [
  {
   "cell_type": "code",
   "execution_count": 1,
   "metadata": {},
   "outputs": [],
   "source": [
    "import time\n",
    "from datetime import datetime\n",
    "import calendar\n",
    "import pandas as pd\n",
    "import csv\n",
    "#import scikit-learn as "
   ]
  },
  {
   "cell_type": "code",
   "execution_count": 2,
   "metadata": {},
   "outputs": [],
   "source": [
    "#ADMISSIONS.csv, PATIENTS.csv, DIAGNOSES_ICD.csv, and ICUSTAYS.csv.\n",
    "Admissions = pd.read_csv(\"mimic-iii-clinical-database-demo-1.4/ADMISSIONS.csv\")\n",
    "Patients= pd.read_csv('mimic-iii-clinical-database-demo-1.4/PATIENTS.csv')\n",
    "Diagnoses=pd.read_csv('mimic-iii-clinical-database-demo-1.4/DIAGNOSES_ICD.csv')\n",
    "ICUstays=pd.read_csv('mimic-iii-clinical-database-demo-1.4/ICUSTAYS.csv')\n"
   ]
  },
  {
   "cell_type": "code",
   "execution_count": 3,
   "metadata": {},
   "outputs": [
    {
     "name": "stdout",
     "output_type": "stream",
     "text": [
      "Type     Column Name                    Example Value\n",
      "-----------------------------------------------------\n",
      "object   admission_location             TRANSFER FROM HOSP/EXTRAM\n",
      "object   admission_type                 EMERGENCY\n",
      "object   admittime                      2126-08-14 22:32:00\n",
      "object   deathtime                      2126-08-28 18:59:00\n",
      "object   diagnosis                      HEPATITIS B\n",
      "object   discharge_location             DEAD/EXPIRED\n",
      "object   dischtime                      2126-08-28 18:59:00\n",
      "object   edouttime                      nan\n",
      "object   edregtime                      nan\n",
      "object   ethnicity                      UNKNOWN/NOT SPECIFIED\n",
      "int64    hadm_id                        105331\n",
      "int64    has_chartevents_data           1\n",
      "int64    hospital_expire_flag           1\n",
      "object   insurance                      Private\n",
      "object   language                       nan\n",
      "object   marital_status                 SINGLE\n",
      "object   religion                       CATHOLIC\n",
      "int64    row_id                         12263\n",
      "int64    subject_id                     10011\n"
     ]
    }
   ],
   "source": [
    "Admissions.keys()\n",
    "def printColumnInfo(df):\n",
    "    template=\"%-8s %-30s %s\"\n",
    "    print(template % (\"Type\", \"Column Name\", \"Example Value\"))\n",
    "    print(\"-\"*53)\n",
    "    for c in df.columns:\n",
    "        print(template % (df[c].dtype, c, df[c].iloc[1]) )\n",
    "\n",
    "#sort a Pandas DataFrame by column names in Python        \n",
    "Ad=Admissions.sort_index(axis=1)        \n",
    "printColumnInfo(Ad)"
   ]
  },
  {
   "cell_type": "code",
   "execution_count": 14,
   "metadata": {},
   "outputs": [
    {
     "data": {
      "text/html": [
       "<div>\n",
       "<style scoped>\n",
       "    .dataframe tbody tr th:only-of-type {\n",
       "        vertical-align: middle;\n",
       "    }\n",
       "\n",
       "    .dataframe tbody tr th {\n",
       "        vertical-align: top;\n",
       "    }\n",
       "\n",
       "    .dataframe thead th {\n",
       "        text-align: right;\n",
       "    }\n",
       "</style>\n",
       "<table border=\"1\" class=\"dataframe\">\n",
       "  <thead>\n",
       "    <tr style=\"text-align: right;\">\n",
       "      <th></th>\n",
       "      <th>row_id</th>\n",
       "      <th>subject_id</th>\n",
       "      <th>hadm_id</th>\n",
       "      <th>hospital_expire_flag</th>\n",
       "      <th>has_chartevents_data</th>\n",
       "    </tr>\n",
       "  </thead>\n",
       "  <tbody>\n",
       "    <tr>\n",
       "      <th>count</th>\n",
       "      <td>129.000000</td>\n",
       "      <td>129.000000</td>\n",
       "      <td>129.000000</td>\n",
       "      <td>129.000000</td>\n",
       "      <td>129.000000</td>\n",
       "    </tr>\n",
       "    <tr>\n",
       "      <th>mean</th>\n",
       "      <td>28036.441860</td>\n",
       "      <td>28010.410853</td>\n",
       "      <td>152343.441860</td>\n",
       "      <td>0.310078</td>\n",
       "      <td>0.992248</td>\n",
       "    </tr>\n",
       "    <tr>\n",
       "      <th>std</th>\n",
       "      <td>14036.548988</td>\n",
       "      <td>16048.502883</td>\n",
       "      <td>27858.788248</td>\n",
       "      <td>0.464328</td>\n",
       "      <td>0.088045</td>\n",
       "    </tr>\n",
       "    <tr>\n",
       "      <th>min</th>\n",
       "      <td>12258.000000</td>\n",
       "      <td>10006.000000</td>\n",
       "      <td>100375.000000</td>\n",
       "      <td>0.000000</td>\n",
       "      <td>0.000000</td>\n",
       "    </tr>\n",
       "    <tr>\n",
       "      <th>25%</th>\n",
       "      <td>12339.000000</td>\n",
       "      <td>10088.000000</td>\n",
       "      <td>128293.000000</td>\n",
       "      <td>0.000000</td>\n",
       "      <td>1.000000</td>\n",
       "    </tr>\n",
       "    <tr>\n",
       "      <th>50%</th>\n",
       "      <td>39869.000000</td>\n",
       "      <td>40310.000000</td>\n",
       "      <td>157235.000000</td>\n",
       "      <td>0.000000</td>\n",
       "      <td>1.000000</td>\n",
       "    </tr>\n",
       "    <tr>\n",
       "      <th>75%</th>\n",
       "      <td>40463.000000</td>\n",
       "      <td>42135.000000</td>\n",
       "      <td>174739.000000</td>\n",
       "      <td>1.000000</td>\n",
       "      <td>1.000000</td>\n",
       "    </tr>\n",
       "    <tr>\n",
       "      <th>max</th>\n",
       "      <td>41092.000000</td>\n",
       "      <td>44228.000000</td>\n",
       "      <td>199395.000000</td>\n",
       "      <td>1.000000</td>\n",
       "      <td>1.000000</td>\n",
       "    </tr>\n",
       "  </tbody>\n",
       "</table>\n",
       "</div>"
      ],
      "text/plain": [
       "             row_id    subject_id        hadm_id  hospital_expire_flag  \\\n",
       "count    129.000000    129.000000     129.000000            129.000000   \n",
       "mean   28036.441860  28010.410853  152343.441860              0.310078   \n",
       "std    14036.548988  16048.502883   27858.788248              0.464328   \n",
       "min    12258.000000  10006.000000  100375.000000              0.000000   \n",
       "25%    12339.000000  10088.000000  128293.000000              0.000000   \n",
       "50%    39869.000000  40310.000000  157235.000000              0.000000   \n",
       "75%    40463.000000  42135.000000  174739.000000              1.000000   \n",
       "max    41092.000000  44228.000000  199395.000000              1.000000   \n",
       "\n",
       "       has_chartevents_data  \n",
       "count            129.000000  \n",
       "mean               0.992248  \n",
       "std                0.088045  \n",
       "min                0.000000  \n",
       "25%                1.000000  \n",
       "50%                1.000000  \n",
       "75%                1.000000  \n",
       "max                1.000000  "
      ]
     },
     "execution_count": 14,
     "metadata": {},
     "output_type": "execute_result"
    }
   ],
   "source": [
    "Admissions.describe()"
   ]
  },
  {
   "cell_type": "code",
   "execution_count": 15,
   "metadata": {},
   "outputs": [
    {
     "data": {
      "text/plain": [
       "row_id                   0\n",
       "subject_id               0\n",
       "hadm_id                  0\n",
       "admittime                0\n",
       "dischtime                0\n",
       "deathtime               89\n",
       "admission_type           0\n",
       "admission_location       0\n",
       "discharge_location       0\n",
       "insurance                0\n",
       "language                48\n",
       "religion                 1\n",
       "marital_status          16\n",
       "ethnicity                0\n",
       "edregtime               37\n",
       "edouttime               37\n",
       "diagnosis                0\n",
       "hospital_expire_flag     0\n",
       "has_chartevents_data     0\n",
       "dtype: int64"
      ]
     },
     "execution_count": 15,
     "metadata": {},
     "output_type": "execute_result"
    }
   ],
   "source": [
    "Admissions.isna().sum() "
   ]
  },
  {
   "cell_type": "code",
   "execution_count": 4,
   "metadata": {},
   "outputs": [],
   "source": [
    "#date_format = '%d-%b-%y.%H:%M:%S'\n",
    "\n",
    "#for  line in enumerate(Admissions):\n",
    "#    dt_dischtime=Admissions[datetime.strptime('dischtime',date_format)] \n",
    "#    dt_admittime=Admissions[datetime.strptime('admittime',date_format)] \n",
    "#    Admissions['Lenght-of-stay'] = dt_dischtime -dt_admittime\n",
    "#   print(Admissions['Lenght-of-stay'])"
   ]
  },
  {
   "cell_type": "code",
   "execution_count": 5,
   "metadata": {},
   "outputs": [
    {
     "name": "stdout",
     "output_type": "stream",
     "text": [
      "Type     Column Name                    Example Value\n",
      "-----------------------------------------------------\n",
      "object   dob                            2090-06-05 00:00:00\n",
      "object   dod                            2126-08-28 00:00:00\n",
      "object   dod_hosp                       2126-08-28 00:00:00\n",
      "object   dod_ssn                        nan\n",
      "int64    expire_flag                    1\n",
      "object   gender                         F\n",
      "int64    row_id                         9472\n",
      "int64    subject_id                     10011\n"
     ]
    }
   ],
   "source": [
    "Patients.keys()\n",
    "\n",
    "#sort a Pandas DataFrame by column names in Python        \n",
    "Pa=Patients.sort_index(axis=1)        \n",
    "printColumnInfo(Pa)"
   ]
  },
  {
   "cell_type": "code",
   "execution_count": 6,
   "metadata": {},
   "outputs": [
    {
     "data": {
      "text/html": [
       "<div>\n",
       "<style scoped>\n",
       "    .dataframe tbody tr th:only-of-type {\n",
       "        vertical-align: middle;\n",
       "    }\n",
       "\n",
       "    .dataframe tbody tr th {\n",
       "        vertical-align: top;\n",
       "    }\n",
       "\n",
       "    .dataframe thead th {\n",
       "        text-align: right;\n",
       "    }\n",
       "</style>\n",
       "<table border=\"1\" class=\"dataframe\">\n",
       "  <thead>\n",
       "    <tr style=\"text-align: right;\">\n",
       "      <th></th>\n",
       "      <th>row_id</th>\n",
       "      <th>subject_id</th>\n",
       "      <th>expire_flag</th>\n",
       "    </tr>\n",
       "  </thead>\n",
       "  <tbody>\n",
       "    <tr>\n",
       "      <th>count</th>\n",
       "      <td>100.000000</td>\n",
       "      <td>100.000000</td>\n",
       "      <td>100.0</td>\n",
       "    </tr>\n",
       "    <tr>\n",
       "      <th>mean</th>\n",
       "      <td>20452.580000</td>\n",
       "      <td>26162.330000</td>\n",
       "      <td>1.0</td>\n",
       "    </tr>\n",
       "    <tr>\n",
       "      <th>std</th>\n",
       "      <td>10982.043163</td>\n",
       "      <td>16201.834705</td>\n",
       "      <td>0.0</td>\n",
       "    </tr>\n",
       "    <tr>\n",
       "      <th>min</th>\n",
       "      <td>9467.000000</td>\n",
       "      <td>10006.000000</td>\n",
       "      <td>1.0</td>\n",
       "    </tr>\n",
       "    <tr>\n",
       "      <th>25%</th>\n",
       "      <td>9526.500000</td>\n",
       "      <td>10068.500000</td>\n",
       "      <td>1.0</td>\n",
       "    </tr>\n",
       "    <tr>\n",
       "      <th>50%</th>\n",
       "      <td>20209.000000</td>\n",
       "      <td>25128.000000</td>\n",
       "      <td>1.0</td>\n",
       "    </tr>\n",
       "    <tr>\n",
       "      <th>75%</th>\n",
       "      <td>31391.250000</td>\n",
       "      <td>42276.500000</td>\n",
       "      <td>1.0</td>\n",
       "    </tr>\n",
       "    <tr>\n",
       "      <th>max</th>\n",
       "      <td>31872.000000</td>\n",
       "      <td>44228.000000</td>\n",
       "      <td>1.0</td>\n",
       "    </tr>\n",
       "  </tbody>\n",
       "</table>\n",
       "</div>"
      ],
      "text/plain": [
       "             row_id    subject_id  expire_flag\n",
       "count    100.000000    100.000000        100.0\n",
       "mean   20452.580000  26162.330000          1.0\n",
       "std    10982.043163  16201.834705          0.0\n",
       "min     9467.000000  10006.000000          1.0\n",
       "25%     9526.500000  10068.500000          1.0\n",
       "50%    20209.000000  25128.000000          1.0\n",
       "75%    31391.250000  42276.500000          1.0\n",
       "max    31872.000000  44228.000000          1.0"
      ]
     },
     "execution_count": 6,
     "metadata": {},
     "output_type": "execute_result"
    }
   ],
   "source": [
    "Patients.describe()"
   ]
  },
  {
   "cell_type": "code",
   "execution_count": 7,
   "metadata": {},
   "outputs": [
    {
     "data": {
      "text/plain": [
       "row_id          0\n",
       "subject_id      0\n",
       "gender          0\n",
       "dob             0\n",
       "dod             0\n",
       "dod_hosp       30\n",
       "dod_ssn        23\n",
       "expire_flag     0\n",
       "dtype: int64"
      ]
     },
     "execution_count": 7,
     "metadata": {},
     "output_type": "execute_result"
    }
   ],
   "source": [
    "Patients.isna().sum() "
   ]
  },
  {
   "cell_type": "code",
   "execution_count": 8,
   "metadata": {},
   "outputs": [
    {
     "name": "stdout",
     "output_type": "stream",
     "text": [
      "Type     Column Name                    Example Value\n",
      "-----------------------------------------------------\n",
      "int64    hadm_id                        142345\n",
      "object   icd9_code                      99662\n",
      "int64    row_id                         112345\n",
      "int64    seq_num                        2\n",
      "int64    subject_id                     10006\n"
     ]
    }
   ],
   "source": [
    "Diagnoses.keys()\n",
    "\n",
    "#sort a Pandas DataFrame by column names in Python        \n",
    "Di=Diagnoses.sort_index(axis=1)        \n",
    "printColumnInfo(Di)"
   ]
  },
  {
   "cell_type": "code",
   "execution_count": 9,
   "metadata": {},
   "outputs": [
    {
     "data": {
      "text/html": [
       "<div>\n",
       "<style scoped>\n",
       "    .dataframe tbody tr th:only-of-type {\n",
       "        vertical-align: middle;\n",
       "    }\n",
       "\n",
       "    .dataframe tbody tr th {\n",
       "        vertical-align: top;\n",
       "    }\n",
       "\n",
       "    .dataframe thead th {\n",
       "        text-align: right;\n",
       "    }\n",
       "</style>\n",
       "<table border=\"1\" class=\"dataframe\">\n",
       "  <thead>\n",
       "    <tr style=\"text-align: right;\">\n",
       "      <th></th>\n",
       "      <th>row_id</th>\n",
       "      <th>subject_id</th>\n",
       "      <th>hadm_id</th>\n",
       "      <th>seq_num</th>\n",
       "    </tr>\n",
       "  </thead>\n",
       "  <tbody>\n",
       "    <tr>\n",
       "      <th>count</th>\n",
       "      <td>1761.000000</td>\n",
       "      <td>1761.000000</td>\n",
       "      <td>1761.000000</td>\n",
       "      <td>1761.000000</td>\n",
       "    </tr>\n",
       "    <tr>\n",
       "      <th>mean</th>\n",
       "      <td>287797.360591</td>\n",
       "      <td>30392.649631</td>\n",
       "      <td>152515.138558</td>\n",
       "      <td>8.844974</td>\n",
       "    </tr>\n",
       "    <tr>\n",
       "      <th>std</th>\n",
       "      <td>132861.091209</td>\n",
       "      <td>15461.173204</td>\n",
       "      <td>27552.374513</td>\n",
       "      <td>6.315866</td>\n",
       "    </tr>\n",
       "    <tr>\n",
       "      <th>min</th>\n",
       "      <td>112344.000000</td>\n",
       "      <td>10006.000000</td>\n",
       "      <td>100375.000000</td>\n",
       "      <td>1.000000</td>\n",
       "    </tr>\n",
       "    <tr>\n",
       "      <th>25%</th>\n",
       "      <td>113177.000000</td>\n",
       "      <td>10094.000000</td>\n",
       "      <td>128293.000000</td>\n",
       "      <td>4.000000</td>\n",
       "    </tr>\n",
       "    <tr>\n",
       "      <th>50%</th>\n",
       "      <td>382072.000000</td>\n",
       "      <td>40687.000000</td>\n",
       "      <td>155297.000000</td>\n",
       "      <td>8.000000</td>\n",
       "    </tr>\n",
       "    <tr>\n",
       "      <th>75%</th>\n",
       "      <td>389325.000000</td>\n",
       "      <td>42199.000000</td>\n",
       "      <td>174863.000000</td>\n",
       "      <td>12.000000</td>\n",
       "    </tr>\n",
       "    <tr>\n",
       "      <th>max</th>\n",
       "      <td>397677.000000</td>\n",
       "      <td>44228.000000</td>\n",
       "      <td>199395.000000</td>\n",
       "      <td>37.000000</td>\n",
       "    </tr>\n",
       "  </tbody>\n",
       "</table>\n",
       "</div>"
      ],
      "text/plain": [
       "              row_id    subject_id        hadm_id      seq_num\n",
       "count    1761.000000   1761.000000    1761.000000  1761.000000\n",
       "mean   287797.360591  30392.649631  152515.138558     8.844974\n",
       "std    132861.091209  15461.173204   27552.374513     6.315866\n",
       "min    112344.000000  10006.000000  100375.000000     1.000000\n",
       "25%    113177.000000  10094.000000  128293.000000     4.000000\n",
       "50%    382072.000000  40687.000000  155297.000000     8.000000\n",
       "75%    389325.000000  42199.000000  174863.000000    12.000000\n",
       "max    397677.000000  44228.000000  199395.000000    37.000000"
      ]
     },
     "execution_count": 9,
     "metadata": {},
     "output_type": "execute_result"
    }
   ],
   "source": [
    "Diagnoses.describe()"
   ]
  },
  {
   "cell_type": "code",
   "execution_count": 10,
   "metadata": {},
   "outputs": [
    {
     "data": {
      "text/plain": [
       "row_id        0\n",
       "subject_id    0\n",
       "hadm_id       0\n",
       "seq_num       0\n",
       "icd9_code     0\n",
       "dtype: int64"
      ]
     },
     "execution_count": 10,
     "metadata": {},
     "output_type": "execute_result"
    }
   ],
   "source": [
    "Diagnoses.isna().sum() "
   ]
  },
  {
   "cell_type": "code",
   "execution_count": 11,
   "metadata": {},
   "outputs": [
    {
     "name": "stdout",
     "output_type": "stream",
     "text": [
      "Type     Column Name                    Example Value\n",
      "-----------------------------------------------------\n",
      "object   dbsource                       carevue\n",
      "object   first_careunit                 MICU\n",
      "int64    first_wardid                   15\n",
      "int64    hadm_id                        105331\n",
      "int64    icustay_id                     232110\n",
      "object   intime                         2126-08-14 22:34:00\n",
      "object   last_careunit                  MICU\n",
      "int64    last_wardid                    15\n",
      "float64  los                            13.8507\n",
      "object   outtime                        2126-08-28 18:59:00\n",
      "int64    row_id                         12747\n",
      "int64    subject_id                     10011\n"
     ]
    }
   ],
   "source": [
    "\n",
    "ICUstays.keys()\n",
    "#sort a Pandas DataFrame by column names in Python        \n",
    "ICU=ICUstays.sort_index(axis=1)        \n",
    "printColumnInfo(ICU)"
   ]
  },
  {
   "cell_type": "code",
   "execution_count": 12,
   "metadata": {},
   "outputs": [
    {
     "data": {
      "text/html": [
       "<div>\n",
       "<style scoped>\n",
       "    .dataframe tbody tr th:only-of-type {\n",
       "        vertical-align: middle;\n",
       "    }\n",
       "\n",
       "    .dataframe tbody tr th {\n",
       "        vertical-align: top;\n",
       "    }\n",
       "\n",
       "    .dataframe thead th {\n",
       "        text-align: right;\n",
       "    }\n",
       "</style>\n",
       "<table border=\"1\" class=\"dataframe\">\n",
       "  <thead>\n",
       "    <tr style=\"text-align: right;\">\n",
       "      <th></th>\n",
       "      <th>row_id</th>\n",
       "      <th>subject_id</th>\n",
       "      <th>hadm_id</th>\n",
       "      <th>icustay_id</th>\n",
       "      <th>first_wardid</th>\n",
       "      <th>last_wardid</th>\n",
       "      <th>los</th>\n",
       "    </tr>\n",
       "  </thead>\n",
       "  <tbody>\n",
       "    <tr>\n",
       "      <th>count</th>\n",
       "      <td>136.000000</td>\n",
       "      <td>136.000000</td>\n",
       "      <td>136.000000</td>\n",
       "      <td>136.000000</td>\n",
       "      <td>136.000000</td>\n",
       "      <td>136.000000</td>\n",
       "      <td>136.000000</td>\n",
       "    </tr>\n",
       "    <tr>\n",
       "      <th>mean</th>\n",
       "      <td>29370.316176</td>\n",
       "      <td>28263.485294</td>\n",
       "      <td>153259.566176</td>\n",
       "      <td>250980.470588</td>\n",
       "      <td>34.470588</td>\n",
       "      <td>34.022059</td>\n",
       "      <td>4.452457</td>\n",
       "    </tr>\n",
       "    <tr>\n",
       "      <th>std</th>\n",
       "      <td>14550.435239</td>\n",
       "      <td>16008.281510</td>\n",
       "      <td>28054.220280</td>\n",
       "      <td>28455.125832</td>\n",
       "      <td>18.876182</td>\n",
       "      <td>19.280951</td>\n",
       "      <td>6.196828</td>\n",
       "    </tr>\n",
       "    <tr>\n",
       "      <th>min</th>\n",
       "      <td>12742.000000</td>\n",
       "      <td>10006.000000</td>\n",
       "      <td>100375.000000</td>\n",
       "      <td>201006.000000</td>\n",
       "      <td>7.000000</td>\n",
       "      <td>7.000000</td>\n",
       "      <td>0.105900</td>\n",
       "    </tr>\n",
       "    <tr>\n",
       "      <th>25%</th>\n",
       "      <td>12826.750000</td>\n",
       "      <td>10089.750000</td>\n",
       "      <td>129028.000000</td>\n",
       "      <td>224359.250000</td>\n",
       "      <td>14.750000</td>\n",
       "      <td>14.000000</td>\n",
       "      <td>1.233525</td>\n",
       "    </tr>\n",
       "    <tr>\n",
       "      <th>50%</th>\n",
       "      <td>41427.000000</td>\n",
       "      <td>40307.000000</td>\n",
       "      <td>157724.000000</td>\n",
       "      <td>250055.000000</td>\n",
       "      <td>33.000000</td>\n",
       "      <td>33.000000</td>\n",
       "      <td>2.111450</td>\n",
       "    </tr>\n",
       "    <tr>\n",
       "      <th>75%</th>\n",
       "      <td>42073.750000</td>\n",
       "      <td>42207.000000</td>\n",
       "      <td>174896.500000</td>\n",
       "      <td>277279.250000</td>\n",
       "      <td>52.000000</td>\n",
       "      <td>52.000000</td>\n",
       "      <td>4.329050</td>\n",
       "    </tr>\n",
       "    <tr>\n",
       "      <th>max</th>\n",
       "      <td>42714.000000</td>\n",
       "      <td>44228.000000</td>\n",
       "      <td>199395.000000</td>\n",
       "      <td>298685.000000</td>\n",
       "      <td>57.000000</td>\n",
       "      <td>57.000000</td>\n",
       "      <td>35.406500</td>\n",
       "    </tr>\n",
       "  </tbody>\n",
       "</table>\n",
       "</div>"
      ],
      "text/plain": [
       "             row_id    subject_id        hadm_id     icustay_id  first_wardid  \\\n",
       "count    136.000000    136.000000     136.000000     136.000000    136.000000   \n",
       "mean   29370.316176  28263.485294  153259.566176  250980.470588     34.470588   \n",
       "std    14550.435239  16008.281510   28054.220280   28455.125832     18.876182   \n",
       "min    12742.000000  10006.000000  100375.000000  201006.000000      7.000000   \n",
       "25%    12826.750000  10089.750000  129028.000000  224359.250000     14.750000   \n",
       "50%    41427.000000  40307.000000  157724.000000  250055.000000     33.000000   \n",
       "75%    42073.750000  42207.000000  174896.500000  277279.250000     52.000000   \n",
       "max    42714.000000  44228.000000  199395.000000  298685.000000     57.000000   \n",
       "\n",
       "       last_wardid         los  \n",
       "count   136.000000  136.000000  \n",
       "mean     34.022059    4.452457  \n",
       "std      19.280951    6.196828  \n",
       "min       7.000000    0.105900  \n",
       "25%      14.000000    1.233525  \n",
       "50%      33.000000    2.111450  \n",
       "75%      52.000000    4.329050  \n",
       "max      57.000000   35.406500  "
      ]
     },
     "execution_count": 12,
     "metadata": {},
     "output_type": "execute_result"
    }
   ],
   "source": [
    "ICUstays.describe()"
   ]
  },
  {
   "cell_type": "code",
   "execution_count": 13,
   "metadata": {},
   "outputs": [
    {
     "data": {
      "text/plain": [
       "row_id            0\n",
       "subject_id        0\n",
       "hadm_id           0\n",
       "icustay_id        0\n",
       "dbsource          0\n",
       "first_careunit    0\n",
       "last_careunit     0\n",
       "first_wardid      0\n",
       "last_wardid       0\n",
       "intime            0\n",
       "outtime           0\n",
       "los               0\n",
       "dtype: int64"
      ]
     },
     "execution_count": 13,
     "metadata": {},
     "output_type": "execute_result"
    }
   ],
   "source": [
    "ICUstays.isna().sum() "
   ]
  },
  {
   "cell_type": "code",
   "execution_count": null,
   "metadata": {},
   "outputs": [],
   "source": []
  }
 ],
 "metadata": {
  "kernelspec": {
   "display_name": "Python 3",
   "language": "python",
   "name": "python3"
  },
  "language_info": {
   "codemirror_mode": {
    "name": "ipython",
    "version": 3
   },
   "file_extension": ".py",
   "mimetype": "text/x-python",
   "name": "python",
   "nbconvert_exporter": "python",
   "pygments_lexer": "ipython3",
   "version": "3.8.5"
  }
 },
 "nbformat": 4,
 "nbformat_minor": 4
}
