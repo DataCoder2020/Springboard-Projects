{
 "cells": [
  {
   "cell_type": "code",
   "execution_count": 19,
   "metadata": {},
   "outputs": [
    {
     "name": "stdout",
     "output_type": "stream",
     "text": [
      "[('Date', 'Primary Type', 'Location Description', 'Arrest'), ('03/18/2015 11:35:00 AM', 'DECEPTIVE PRACTICE', '', 'false'), ('11/20/2015 09:59:00 PM', 'NARCOTICS', 'RESIDENCE', 'true'), ('10/28/2015 01:51:00 PM', 'NARCOTICS', 'APARTMENT', 'true'), ('08/20/2015 04:53:00 AM', 'BATTERY', 'SIDEWALK', 'false'), ('09/15/2015 12:00:00 AM', 'DECEPTIVE PRACTICE', '', 'false'), ('11/12/2015 07:09:26 PM', 'NARCOTICS', 'APARTMENT', 'true'), ('10/30/2015 02:40:47 PM', 'NARCOTICS', 'APARTMENT', 'true'), ('03/01/2015 09:00:00 AM', 'DECEPTIVE PRACTICE', '', 'false'), ('04/16/2015 12:00:00 PM', 'DECEPTIVE PRACTICE', 'RESIDENCE', 'false')]\n",
      "======================================================================================================================\n",
      "[('03/18/2015 11:35:00 AM', 'DECEPTIVE PRACTICE', '', 'false'), ('11/20/2015 09:59:00 PM', 'NARCOTICS', 'RESIDENCE', 'true'), ('10/28/2015 01:51:00 PM', 'NARCOTICS', 'APARTMENT', 'true'), ('08/20/2015 04:53:00 AM', 'BATTERY', 'SIDEWALK', 'false'), ('09/15/2015 12:00:00 AM', 'DECEPTIVE PRACTICE', '', 'false'), ('11/12/2015 07:09:26 PM', 'NARCOTICS', 'APARTMENT', 'true'), ('10/30/2015 02:40:47 PM', 'NARCOTICS', 'APARTMENT', 'true'), ('03/01/2015 09:00:00 AM', 'DECEPTIVE PRACTICE', '', 'false'), ('04/16/2015 12:00:00 PM', 'DECEPTIVE PRACTICE', 'RESIDENCE', 'false'), ('06/28/2015 02:55:00 PM', 'ASSAULT', 'SIDEWALK', 'true')]\n"
     ]
    }
   ],
   "source": [
    "# Import the csv module\n",
    "import csv \n",
    "\n",
    "# Create the file object: csvfile\n",
    "csvfile = open('Documents/Python Dataset/Crimes_-_2015.csv', 'r')\n",
    "\n",
    "# Create an empty list: crime_data\n",
    "crime_data = []\n",
    "\n",
    "# Loop over a csv reader on the file object\n",
    "for row in csv.reader(csvfile):\n",
    "\n",
    "    # Append the date, type of crime, location description, and arrest\n",
    "    crime_data.append((row[2], row[5], row[7], row[8]))\n",
    "    \n",
    "\n",
    "print(crime_data[:10])  \n",
    "print('======================================================================================================================')\n",
    "# Remove the first element from crime_data\n",
    "crime_data.pop(0)\n",
    "\n",
    "# Print the first 10 records\n",
    "print(crime_data[:10])"
   ]
  },
  {
   "cell_type": "code",
   "execution_count": 4,
   "metadata": {},
   "outputs": [
    {
     "name": "stdout",
     "output_type": "stream",
     "text": [
      "[(8, 24800), (7, 24214), (5, 23690)]\n"
     ]
    }
   ],
   "source": [
    "# Import necessary modules\n",
    "from collections import Counter\n",
    "from datetime import datetime\n",
    "\n",
    "# Create a Counter Object: crimes_by_month\n",
    "crimes_by_month = Counter()\n",
    "\n",
    "# Loop over the crime_data list\n",
    "for row in crime_data:\n",
    "    \n",
    "    # Convert the first element of each item into a Python Datetime Object\n",
    "    date = datetime.strptime(row[0], '%m/%d/%Y %I:%M:%S %p')\n",
    "    \n",
    "    # Increment the counter for the month of the row by one\n",
    "    crimes_by_month[date.month] += 1\n",
    "    \n",
    "# Print the 3 most common months for crime\n",
    "print(crimes_by_month.most_common(3))"
   ]
  },
  {
   "cell_type": "code",
   "execution_count": 17,
   "metadata": {},
   "outputs": [
    {
     "name": "stdout",
     "output_type": "stream",
     "text": [
      "[3, 11, 10, 8, 9, 4, 6, 1, 12, 2, 7, 5]\n"
     ]
    }
   ],
   "source": [
    "# Import necessary modules\n",
    "from collections import defaultdict\n",
    "from datetime import datetime\n",
    "\n",
    "# Create a dictionary that defaults to a list: locations_by_month\n",
    "locations_by_month = defaultdict(list)\n",
    "\n",
    "# Loop over the crime_data list\n",
    "for row in crime_data:\n",
    "    # Convert the first element to a date object\n",
    "    date = datetime.strptime(row[0], '%m/%d/%Y %I:%M:%S %p')\n",
    "    \n",
    "    # If the year is 2016 \n",
    "    if date.year == 2015:\n",
    "        # Set the dictionary key to the month and append the location (fifth element) to the values list\n",
    "        locations_by_month[date.month].append(row[2])\n",
    "    \n",
    "# Print the dictionary\n",
    "print(list(locations_by_month))"
   ]
  },
  {
   "cell_type": "code",
   "execution_count": 18,
   "metadata": {},
   "outputs": [
    {
     "name": "stdout",
     "output_type": "stream",
     "text": [
      "3\n",
      "[('STREET', 5299), ('RESIDENCE', 3400), ('APARTMENT', 2960), ('SIDEWALK', 2097), ('OTHER', 836)]\n",
      "11\n",
      "[('STREET', 4574), ('RESIDENCE', 3260), ('APARTMENT', 2895), ('SIDEWALK', 2035), ('OTHER', 823)]\n",
      "10\n",
      "[('STREET', 5353), ('RESIDENCE', 3468), ('APARTMENT', 2844), ('SIDEWALK', 2596), ('OTHER', 947)]\n",
      "8\n",
      "[('STREET', 5769), ('RESIDENCE', 3708), ('SIDEWALK', 3105), ('APARTMENT', 3098), ('OTHER', 964)]\n",
      "9\n",
      "[('STREET', 5260), ('RESIDENCE', 3443), ('APARTMENT', 2848), ('SIDEWALK', 2779), ('OTHER', 893)]\n",
      "4\n",
      "[('STREET', 4971), ('RESIDENCE', 3509), ('APARTMENT', 2873), ('SIDEWALK', 2264), ('OTHER', 862)]\n",
      "6\n",
      "[('STREET', 5291), ('RESIDENCE', 3590), ('APARTMENT', 2957), ('SIDEWALK', 2718), ('OTHER', 878)]\n",
      "1\n",
      "[('STREET', 4747), ('RESIDENCE', 3732), ('APARTMENT', 2952), ('SIDEWALK', 1763), ('OTHER', 870)]\n",
      "12\n",
      "[('STREET', 4604), ('RESIDENCE', 3597), ('APARTMENT', 3091), ('SIDEWALK', 1774), ('OTHER', 869)]\n",
      "2\n",
      "[('STREET', 3862), ('RESIDENCE', 2769), ('APARTMENT', 2365), ('SIDEWALK', 1233), ('OTHER', 737)]\n",
      "7\n",
      "[('STREET', 5633), ('RESIDENCE', 3570), ('APARTMENT', 3042), ('SIDEWALK', 2943), ('OTHER', 1012)]\n",
      "5\n",
      "[('STREET', 5391), ('RESIDENCE', 3661), ('APARTMENT', 3038), ('SIDEWALK', 2572), ('OTHER', 913)]\n"
     ]
    }
   ],
   "source": [
    "# Import Counter from collections\n",
    "from collections import Counter\n",
    "\n",
    "# Loop over the items from locations_by_month using tuple expansion of the month and locations\n",
    "for month, locations in locations_by_month.items():\n",
    "    # Make a Counter of the locations\n",
    "    location_count = Counter(locations)\n",
    "    # Print the month \n",
    "    print(month)\n",
    "    # Print the most common location\n",
    "    print(location_count.most_common(5))"
   ]
  },
  {
   "cell_type": "code",
   "execution_count": null,
   "metadata": {},
   "outputs": [],
   "source": []
  }
 ],
 "metadata": {
  "kernelspec": {
   "display_name": "Python 3",
   "language": "python",
   "name": "python3"
  },
  "language_info": {
   "codemirror_mode": {
    "name": "ipython",
    "version": 3
   },
   "file_extension": ".py",
   "mimetype": "text/x-python",
   "name": "python",
   "nbconvert_exporter": "python",
   "pygments_lexer": "ipython3",
   "version": "3.8.3"
  }
 },
 "nbformat": 4,
 "nbformat_minor": 4
}
