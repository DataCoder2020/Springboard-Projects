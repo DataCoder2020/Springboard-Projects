{
 "cells": [
  {
   "cell_type": "code",
   "execution_count": 7,
   "metadata": {},
   "outputs": [
    {
     "name": "stdout",
     "output_type": "stream",
     "text": [
      "['024', '004', '003', '009', '022', '019', '015', '011', '001', '010', '025', '002', '016', '008', '018', '005', '006', '007', '012', '020', '017', '014', '031']\n",
      "[]\n"
     ]
    }
   ],
   "source": [
    "import csv\n",
    "from collections import defaultdict\n",
    "# Create the CSV file: csvfile\n",
    "csvfile = open('Documents/Python Dataset/Crimes_-_2015.csv', 'r')\n",
    "\n",
    "# Create a dictionary that defaults to a list: crimes_by_district\n",
    "crimes_by_district = defaultdict(list)\n",
    "crimes_by_block = {}\n",
    "\n",
    "\n",
    "# Loop over a DictReader of the CSV file\n",
    "for row in csv.DictReader(csvfile):\n",
    "    # Pop the district from each row: district\n",
    "    district = row.pop('District')\n",
    "    # Append the rest of the data to the list for proper district in crimes_by_district\n",
    "    crimes_by_district[district].append(row)\n",
    "print(list(crimes_by_district))\n",
    "\n",
    "for row in csv.DictReader(csvfile):\n",
    "   crimes_by_block[row[5]] = row[3]\n",
    "print(list(crimes_by_block))\n"
   ]
  },
  {
   "cell_type": "code",
   "execution_count": 3,
   "metadata": {},
   "outputs": [
    {
     "name": "stdout",
     "output_type": "stream",
     "text": [
      "024\n",
      "Counter({2015: 1588})\n",
      "004\n",
      "Counter({2015: 4318})\n",
      "003\n",
      "Counter({2015: 3045})\n",
      "009\n",
      "Counter({2015: 3461})\n",
      "022\n",
      "Counter({2015: 1910})\n",
      "019\n",
      "Counter({2015: 2131})\n",
      "015\n",
      "Counter({2015: 4507})\n",
      "011\n",
      "Counter({2015: 8973})\n",
      "001\n",
      "Counter({2015: 2802})\n",
      "010\n",
      "Counter({2015: 3614})\n",
      "025\n",
      "Counter({2015: 4439})\n",
      "002\n",
      "Counter({2015: 1938})\n",
      "016\n",
      "Counter({2015: 1866})\n",
      "008\n",
      "Counter({2015: 4109})\n",
      "018\n",
      "Counter({2015: 2246})\n",
      "005\n",
      "Counter({2015: 3081})\n",
      "006\n",
      "Counter({2015: 4469})\n",
      "007\n",
      "Counter({2015: 5548})\n",
      "012\n",
      "Counter({2015: 2259})\n",
      "020\n",
      "Counter({2015: 957})\n",
      "017\n",
      "Counter({2015: 1240})\n",
      "014\n",
      "Counter({2015: 1469})\n",
      "031\n",
      "Counter({2015: 6})\n"
     ]
    }
   ],
   "source": [
    "from collections import Counter\n",
    "from datetime import datetime\n",
    "\n",
    "# Loop over the crimes_by_district using expansion as district and crimes\n",
    "for district, crimes in crimes_by_district.items():\n",
    "    # Print the district\n",
    "    print(district)\n",
    "    \n",
    "    # Create an empty Counter object: year_count\n",
    "    year_count = Counter()\n",
    "    \n",
    "    # Loop over the crimes:\n",
    "    for crime in crimes:\n",
    "         # If there was an arrest\n",
    "        if crime['Arrest'] == 'true':\n",
    "            # Convert the Date to a datetime and get the year\n",
    "            year = datetime.strptime(crime['Date'], '%m/%d/%Y %I:%M:%S %p').year\n",
    "            # Increment the Counter for the year\n",
    "            year_count[year] += 1\n",
    "            \n",
    "    # Print the counter\n",
    "    print(year_count)"
   ]
  },
  {
   "cell_type": "code",
   "execution_count": 20,
   "metadata": {},
   "outputs": [
    {
     "name": "stdout",
     "output_type": "stream",
     "text": [
      "set()\n",
      "set()\n",
      "set()\n"
     ]
    }
   ],
   "source": [
    "# Create a unique list of crimes for the first block: n_state_st_crimes\n",
    "n_state_st_crimes = set(crimes_by_block['001XX N STATE ST'])\n",
    "\n",
    "# Print the list\n",
    "print(n_state_st_crimes)\n",
    "\n",
    "# Create a unique list of crimes for the second block: w_terminal_st_crimes\n",
    "w_terminal_st_crimes = set(crimes_by_block['0000X W TERMINAL ST'])\n",
    "\n",
    "# Print the list\n",
    "print(w_terminal_st_crimes)\n",
    "\n",
    "# Find the differences between the two blocks: crime_differences\n",
    "crime_differences = n_state_st_crimes.difference(w_terminal_st_crimes)\n",
    "\n",
    "# Print the differences\n",
    "print(crime_differences)"
   ]
  },
  {
   "cell_type": "code",
   "execution_count": null,
   "metadata": {},
   "outputs": [],
   "source": []
  }
 ],
 "metadata": {
  "kernelspec": {
   "display_name": "Python 3",
   "language": "python",
   "name": "python3"
  },
  "language_info": {
   "codemirror_mode": {
    "name": "ipython",
    "version": 3
   },
   "file_extension": ".py",
   "mimetype": "text/x-python",
   "name": "python",
   "nbconvert_exporter": "python",
   "pygments_lexer": "ipython3",
   "version": "3.8.3"
  }
 },
 "nbformat": 4,
 "nbformat_minor": 4
}
