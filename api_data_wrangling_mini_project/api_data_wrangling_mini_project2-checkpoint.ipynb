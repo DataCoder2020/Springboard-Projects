{
 "cells": [
  {
   "cell_type": "markdown",
   "metadata": {},
   "source": [
    "This exercise will require you to pull some data from the Qunadl API. Qaundl is currently the most widely used aggregator of financial market data."
   ]
  },
  {
   "cell_type": "markdown",
   "metadata": {},
   "source": [
    "As a first step, you will need to register a free account on the http://www.quandl.com website."
   ]
  },
  {
   "cell_type": "markdown",
   "metadata": {},
   "source": [
    "After you register, you will be provided with a unique API key, that you should store:"
   ]
  },
  {
   "cell_type": "code",
   "execution_count": 1,
   "metadata": {},
   "outputs": [],
   "source": [
    "# Store the API key as a string - according to PEP8, constants are always named in all upper case\n",
    "API_KEY = 'your API key'"
   ]
  },
  {
   "cell_type": "markdown",
   "metadata": {},
   "source": [
    "Qaundl has a large number of data sources, but, unfortunately, most of them require a Premium subscription. Still, there are also a good number of free datasets."
   ]
  },
  {
   "cell_type": "markdown",
   "metadata": {},
   "source": [
    "For this mini project, we will focus on equities data from the Frankfurt Stock Exhange (FSE), which is available for free. We'll try and analyze the stock prices of a company called Carl Zeiss Meditec, which manufactures tools for eye examinations, as well as medical lasers for laser eye surgery: https://www.zeiss.com/meditec/int/home.html. The company is listed under the stock ticker AFX_X."
   ]
  },
  {
   "cell_type": "markdown",
   "metadata": {},
   "source": [
    "You can find the detailed Quandl API instructions here: https://docs.quandl.com/docs/time-series"
   ]
  },
  {
   "cell_type": "markdown",
   "metadata": {},
   "source": [
    "While there is a dedicated Python package for connecting to the Quandl API, we would prefer that you use the *requests* package, which can be easily downloaded using *pip* or *conda*. You can find the documentation for the package here: http://docs.python-requests.org/en/master/ "
   ]
  },
  {
   "cell_type": "markdown",
   "metadata": {},
   "source": [
    "Finally, apart from the *requests* package, you are encouraged to not use any third party Python packages, such as *pandas*, and instead focus on what's available in the Python Standard Library (the *collections* module might come in handy: https://pymotw.com/3/collections/ ).\n",
    "Also, since you won't have access to DataFrames, you are encouraged to us Python's native data structures - preferably dictionaries, though some questions can also be answered using lists.\n",
    "You can read more on these data structures here: https://docs.python.org/3/tutorial/datastructures.html"
   ]
  },
  {
   "cell_type": "markdown",
   "metadata": {},
   "source": [
    "Keep in mind that the JSON responses you will be getting from the API map almost one-to-one to Python's dictionaries. Unfortunately, they can be very nested, so make sure you read up on indexing dictionaries in the documentation provided above."
   ]
  },
  {
   "cell_type": "code",
   "execution_count": 2,
   "metadata": {},
   "outputs": [],
   "source": [
    "# First, import the relevant modules\n",
    "import pandas as pd\n",
    "import numpy as np\n",
    "import csv\n",
    "import requests\n",
    "import datetime as dt\n",
    "import json"
   ]
  },
  {
   "cell_type": "code",
   "execution_count": 3,
   "metadata": {},
   "outputs": [
    {
     "name": "stdout",
     "output_type": "stream",
     "text": [
      "https://www.quandl.com/api/v3/datasets/FSE/AFX_X.json?api_key=UtrkC4KBy-7ocHzah6Hp\n",
      "Response was grabbed!\n"
     ]
    }
   ],
   "source": [
    "# Now, call the Quandl API and pull out a small sample of the data (only one day) to get a glimpse\n",
    "# into the JSON structure that will be returned\n",
    "#r = requests.get(\"https://www.quandl.com/api/v3/datasets/FSE/AFX_X/data.json?&limit=1&api_key=\" + API_KEY)\n",
    "\n",
    "\n",
    "\n",
    "#1. Collect data from the Franfurt Stock Exchange, for the ticker AFX_X, for the whole year 2017 (keep in mind that the date format is YYYY-MM-DD).\n",
    "DATABASE_CODE = 'FSE'\n",
    "TICKER = 'AFX_X'\n",
    "url = 'https://www.quandl.com/api/v3/datasets/' + DATABASE_CODE + '/'+ TICKER + '.json?api_key='+ API_KEY\n",
    "print(url)\n",
    "start = dt.datetime(2017,1,1)\n",
    "end = dt.datetime(2017,12,31)\n",
    "params = dict(\n",
    "    start_date = start,\n",
    "    end_date = end\n",
    ")\n",
    "\n",
    "\n",
    "#2. Convert the returned JSON object into a Python dictionary.\n",
    "response = requests.get(url, params).json()\n",
    "datadump = json.dumps(response, indent=2, sort_keys=True)\n",
    "if response:\n",
    "    print('Response was grabbed!')\n",
    "#print(response)"
   ]
  },
  {
   "cell_type": "code",
   "execution_count": 4,
   "metadata": {},
   "outputs": [
    {
     "name": "stdout",
     "output_type": "stream",
     "text": [
      "          Date   Open   High    Low  Close  Change  Traded Volume   Turnover  \\\n",
      "0   2017-12-29  51.76  51.94  51.45  51.76     NaN        34640.0  1792304.0   \n",
      "1   2017-12-28  51.65  51.82  51.43  51.60     NaN        40660.0  2099024.0   \n",
      "2   2017-12-27  51.45  51.89  50.76  51.82     NaN        57452.0  2957018.0   \n",
      "3   2017-12-22  51.05  51.50  50.92  51.32     NaN        71165.0  3641949.0   \n",
      "4   2017-12-21  51.16  51.52  50.90  51.40     NaN       120649.0  6179433.0   \n",
      "..         ...    ...    ...    ...    ...     ...            ...        ...   \n",
      "250 2017-01-06  34.91  35.21  34.91  35.04     NaN        27507.0   964046.0   \n",
      "251 2017-01-05  35.02  35.20  34.73  35.06     NaN        48412.0  1692326.0   \n",
      "252 2017-01-04  35.48  35.51  34.75  35.19     NaN        54408.0  1906810.0   \n",
      "253 2017-01-03  35.90  35.93  35.34  35.48     NaN        70618.0  2515473.0   \n",
      "254 2017-01-02  34.99  35.94  34.99  35.80     NaN        44700.0  1590561.0   \n",
      "\n",
      "    Last Price of the Day Daily Traded Units Daily Turnover  \n",
      "0                    None               None           None  \n",
      "1                    None               None           None  \n",
      "2                    None               None           None  \n",
      "3                    None               None           None  \n",
      "4                    None               None           None  \n",
      "..                    ...                ...            ...  \n",
      "250                  None               None           None  \n",
      "251                  None               None           None  \n",
      "252                  None               None           None  \n",
      "253                  None               None           None  \n",
      "254                  None               None           None  \n",
      "\n",
      "[255 rows x 11 columns]\n"
     ]
    }
   ],
   "source": [
    "header = response['dataset']['column_names']\n",
    "df = pd.DataFrame(response['dataset']['data'], columns = header)\n",
    "df.Date = pd.to_datetime(df.Date)\n",
    "\n",
    "#Grabbing Indexes\n",
    "index2017 = []\n",
    "count = 0\n",
    "for i in df.Date:\n",
    "    if (i > start) & (i < end):\n",
    "        index2017.append(count)\n",
    "        #print(i)\n",
    "    count += 1\n",
    "df = df.iloc[index2017]\n",
    "print(df)"
   ]
  },
  {
   "cell_type": "code",
   "execution_count": 5,
   "metadata": {},
   "outputs": [],
   "source": [
    "# Inspect the JSON structure of the object you created, and take note of how nested it is,\n",
    "# as well as the overall structure\n"
   ]
  },
  {
   "cell_type": "markdown",
   "metadata": {},
   "source": [
    "These are your tasks for this mini project:\n",
    "\n",
    "1. Collect data from the Franfurt Stock Exchange, for the ticker AFX_X, for the whole year 2017 (keep in mind that the date format is YYYY-MM-DD).\n",
    "2. Convert the returned JSON object into a Python dictionary.\n",
    "3. Calculate what the highest and lowest opening prices were for the stock in this period.\n",
    "4. What was the largest change in any one day (based on High and Low price)?\n",
    "5. What was the largest change between any two days (based on Closing Price)?\n",
    "6. What was the average daily trading volume during this year?\n",
    "7. (Optional) What was the median trading volume during this year. (Note: you may need to implement your own function for calculating the median.)"
   ]
  },
  {
   "cell_type": "code",
   "execution_count": 6,
   "metadata": {},
   "outputs": [
    {
     "name": "stdout",
     "output_type": "stream",
     "text": [
      "Answer #3: The Highest Price for this stock was 53.54 and the Lowest Price for this stock was 33.62.\n",
      "Answer #4: The Largest Change in one day based on the highs and lows is 2.8100000000000023\n",
      "Answer #5: The Largest Change between two days based on the highs and lows is 3.75\n",
      "Answer #6: The Mean for 2017 Daily Trading Volume: 89124.33725490196\n",
      "Answer #7: The Median for 2017 Trading Volume: 76286.0\n"
     ]
    }
   ],
   "source": [
    "#3. Calculate what the highest and lowest opening prices were for the stock in this period.\n",
    "print(\"Answer #3: The Highest Price for this stock was {} and the Lowest Price for this stock was {}.\".format(\n",
    "df.High.max(), df.Low.min()))\n",
    "\n",
    "#4. What was the largest change in any one day (based on High and Low price)?\n",
    "#Answer 4\n",
    "df['Change'] = df.High - df.Low\n",
    "print(\"Answer #4: The Largest Change in one day based on the highs and lows is {}\".format(df['Change'].max()))\n",
    "\n",
    "# 5. What was the largest change between any two days (based on Closing Price)?\n",
    "#Answer 5\n",
    "dayClose = []\n",
    "dayComparison = 0\n",
    "dayBefore = 0\n",
    "dayAfter = 0 \n",
    "count = 0\n",
    "for i in df.Close:\n",
    "    dayClose.append(i)\n",
    "for day in dayClose:\n",
    "    count += 1\n",
    "    if count % 2 == 0:\n",
    "        dayAfter = day\n",
    "    elif count % 3 == 0:\n",
    "        dayBefore = day\n",
    "    elif count == 1:\n",
    "        dayBefore = day\n",
    "    if dayComparison < (dayAfter - dayBefore):\n",
    "        dayComparison = (dayAfter - dayBefore)\n",
    "    \n",
    "print(\"Answer #5: The Largest Change between two days based on the highs and lows is {}\".format(dayComparison\n",
    "))\n",
    "\n",
    "#6. What was the average daily trading volume during this year?\n",
    "print(\"Answer #6: The Mean for 2017 Daily Trading Volume: {}\".format(df['Traded Volume'].mean()))\n",
    "\n",
    " 7.(Optional) What was the median trading volume during this year. (Note: you may need to implement your own function for calculating the median.)\n",
    "print(\"Answer #7: The Median for 2017 Trading Volume: {}\".format(df['Traded Volume'].median()))"
   ]
  },
  {
   "cell_type": "code",
   "execution_count": null,
   "metadata": {},
   "outputs": [],
   "source": []
  }
 ],
 "metadata": {
  "kernelspec": {
   "display_name": "Python 3",
   "language": "python",
   "name": "python3"
  },
  "language_info": {
   "codemirror_mode": {
    "name": "ipython",
    "version": 3
   },
   "file_extension": ".py",
   "mimetype": "text/x-python",
   "name": "python",
   "nbconvert_exporter": "python",
   "pygments_lexer": "ipython3",
   "version": "3.8.3"
  }
 },
 "nbformat": 4,
 "nbformat_minor": 2
}
